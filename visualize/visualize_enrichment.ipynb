{
 "cells": [
  {
   "cell_type": "code",
   "execution_count": 230,
   "metadata": {},
   "outputs": [],
   "source": [
    "import pandas as pd\n",
    "import numpy as np\n",
    "import matplotlib.pyplot as plt\n",
    "import seaborn as sns"
   ]
  },
  {
   "cell_type": "code",
   "execution_count": 231,
   "metadata": {},
   "outputs": [],
   "source": [
    "enrichment_file = \"fgsea\"\n",
    "# enrichment_file = \"gprofiler\"\n",
    "\n",
    "if enrichment_file == \"fgsea\": # Get fgsea results.\n",
    "    enr = pd.read_csv(\"/users/csb/huizing/Documents/PhD/Code/mowgli_reproducibility/enrich/fgsea.csv\", index_col=0)\n",
    "    enr.rename(columns={\"pathway\": \"native\", \"col\": \"dim\", \"pval\": \"p_value\"}, inplace=True)\n",
    "    enr[\"dim\"] = enr[\"dim\"].str.replace(\"X\", \"\").astype(int)\n",
    "    # Actually, it should be padj instead of pval, but nothing is significant...\n",
    "\n",
    "elif enrichment_file == \"gprofiler\": # Get gprofiler results. \n",
    "    enr = pd.read_csv(\"/users/csb/huizing/Documents/PhD/Code/mowgli_reproducibility/enrich/enrichment.csv\", index_col=0)\n",
    "    enr[\"dim\"] = enr[\"query\"].str.split(\" \", expand=True)[1].astype(int)\n",
    "\n",
    "enr[\"name\"] = enr[\"native\"]"
   ]
  },
  {
   "cell_type": "code",
   "execution_count": 232,
   "metadata": {},
   "outputs": [],
   "source": [
    "# enr = enr[enr[\"source\"] == \"GO_Molecular_Function_2021\"] # Molecular function\n",
    "# enr = enr[enr[\"source\"] == \"GO_Cellular_Component_2021\"] # Cellular component\n",
    "# enr = enr[enr[\"source\"] == \"GO_Biological_Process_2021\"] # Biological process\n",
    "# enr = enr[enr[\"source\"] == \"KEGG_2021_Human\"] # KEGG pathways\n",
    "# enr = enr[enr[\"source\"] == \"Reactome_2016\"] # Reactome pathways\n",
    "enr = enr[enr[\"source\"] == \"PanglaoDB_Augmented_2021\"] # Cell types"
   ]
  },
  {
   "cell_type": "code",
   "execution_count": 233,
   "metadata": {},
   "outputs": [],
   "source": [
    "enr = enr[enr[\"p_value\"] < .05]"
   ]
  },
  {
   "cell_type": "code",
   "execution_count": 234,
   "metadata": {},
   "outputs": [],
   "source": [
    "enr[\"minlogp\"] = -np.log10(enr[\"p_value\"])"
   ]
  },
  {
   "cell_type": "code",
   "execution_count": 235,
   "metadata": {},
   "outputs": [
    {
     "data": {
      "text/html": [
       "<div>\n",
       "<style scoped>\n",
       "    .dataframe tbody tr th:only-of-type {\n",
       "        vertical-align: middle;\n",
       "    }\n",
       "\n",
       "    .dataframe tbody tr th {\n",
       "        vertical-align: top;\n",
       "    }\n",
       "\n",
       "    .dataframe thead th {\n",
       "        text-align: right;\n",
       "    }\n",
       "</style>\n",
       "<table border=\"1\" class=\"dataframe\">\n",
       "  <thead>\n",
       "    <tr style=\"text-align: right;\">\n",
       "      <th></th>\n",
       "      <th>native</th>\n",
       "      <th>p_value</th>\n",
       "      <th>padj</th>\n",
       "      <th>ES</th>\n",
       "      <th>NES</th>\n",
       "      <th>nMoreExtreme</th>\n",
       "      <th>size</th>\n",
       "      <th>dim</th>\n",
       "      <th>method</th>\n",
       "      <th>source</th>\n",
       "      <th>name</th>\n",
       "      <th>minlogp</th>\n",
       "    </tr>\n",
       "  </thead>\n",
       "  <tbody>\n",
       "    <tr>\n",
       "      <th>8405</th>\n",
       "      <td>B Cells</td>\n",
       "      <td>0.001271</td>\n",
       "      <td>0.054450</td>\n",
       "      <td>0.896699</td>\n",
       "      <td>1.485698</td>\n",
       "      <td>0</td>\n",
       "      <td>44</td>\n",
       "      <td>0</td>\n",
       "      <td>mofa</td>\n",
       "      <td>PanglaoDB_Augmented_2021</td>\n",
       "      <td>B Cells</td>\n",
       "      <td>2.895975</td>\n",
       "    </tr>\n",
       "    <tr>\n",
       "      <th>8406</th>\n",
       "      <td>B Cells Memory</td>\n",
       "      <td>0.002740</td>\n",
       "      <td>0.054450</td>\n",
       "      <td>0.929249</td>\n",
       "      <td>1.448481</td>\n",
       "      <td>1</td>\n",
       "      <td>28</td>\n",
       "      <td>0</td>\n",
       "      <td>mofa</td>\n",
       "      <td>PanglaoDB_Augmented_2021</td>\n",
       "      <td>B Cells Memory</td>\n",
       "      <td>2.562293</td>\n",
       "    </tr>\n",
       "    <tr>\n",
       "      <th>8407</th>\n",
       "      <td>B Cells Naive</td>\n",
       "      <td>0.001319</td>\n",
       "      <td>0.054450</td>\n",
       "      <td>0.891552</td>\n",
       "      <td>1.447116</td>\n",
       "      <td>0</td>\n",
       "      <td>35</td>\n",
       "      <td>0</td>\n",
       "      <td>mofa</td>\n",
       "      <td>PanglaoDB_Augmented_2021</td>\n",
       "      <td>B Cells Naive</td>\n",
       "      <td>2.879669</td>\n",
       "    </tr>\n",
       "    <tr>\n",
       "      <th>8416</th>\n",
       "      <td>Decidual Cells</td>\n",
       "      <td>0.007220</td>\n",
       "      <td>0.083935</td>\n",
       "      <td>-0.891624</td>\n",
       "      <td>-1.560865</td>\n",
       "      <td>1</td>\n",
       "      <td>24</td>\n",
       "      <td>0</td>\n",
       "      <td>mofa</td>\n",
       "      <td>PanglaoDB_Augmented_2021</td>\n",
       "      <td>Decidual Cells</td>\n",
       "      <td>2.141450</td>\n",
       "    </tr>\n",
       "    <tr>\n",
       "      <th>8417</th>\n",
       "      <td>Dendritic Cells</td>\n",
       "      <td>0.039241</td>\n",
       "      <td>0.260669</td>\n",
       "      <td>0.786072</td>\n",
       "      <td>1.319408</td>\n",
       "      <td>30</td>\n",
       "      <td>51</td>\n",
       "      <td>0</td>\n",
       "      <td>mofa</td>\n",
       "      <td>PanglaoDB_Augmented_2021</td>\n",
       "      <td>Dendritic Cells</td>\n",
       "      <td>1.406265</td>\n",
       "    </tr>\n",
       "  </tbody>\n",
       "</table>\n",
       "</div>"
      ],
      "text/plain": [
       "               native   p_value      padj        ES       NES  nMoreExtreme  \\\n",
       "8405          B Cells  0.001271  0.054450  0.896699  1.485698             0   \n",
       "8406   B Cells Memory  0.002740  0.054450  0.929249  1.448481             1   \n",
       "8407    B Cells Naive  0.001319  0.054450  0.891552  1.447116             0   \n",
       "8416   Decidual Cells  0.007220  0.083935 -0.891624 -1.560865             1   \n",
       "8417  Dendritic Cells  0.039241  0.260669  0.786072  1.319408            30   \n",
       "\n",
       "      size  dim method                    source             name   minlogp  \n",
       "8405    44    0   mofa  PanglaoDB_Augmented_2021          B Cells  2.895975  \n",
       "8406    28    0   mofa  PanglaoDB_Augmented_2021   B Cells Memory  2.562293  \n",
       "8407    35    0   mofa  PanglaoDB_Augmented_2021    B Cells Naive  2.879669  \n",
       "8416    24    0   mofa  PanglaoDB_Augmented_2021   Decidual Cells  2.141450  \n",
       "8417    51    0   mofa  PanglaoDB_Augmented_2021  Dendritic Cells  1.406265  "
      ]
     },
     "execution_count": 235,
     "metadata": {},
     "output_type": "execute_result"
    }
   ],
   "source": [
    "enr.head()"
   ]
  },
  {
   "cell_type": "markdown",
   "metadata": {},
   "source": [
    "## Count enrichments"
   ]
  },
  {
   "cell_type": "code",
   "execution_count": 236,
   "metadata": {},
   "outputs": [
    {
     "data": {
      "image/png": "[encoded data removed]",
      "text/plain": [
       "<Figure size 432x288 with 1 Axes>"
      ]
     },
     "metadata": {
      "needs_background": "light"
     },
     "output_type": "display_data"
    }
   ],
   "source": [
    "plt.title(\"Total number of enriched terms per method\")\n",
    "sns.barplot(data=enr.groupby(\"method\").count().reset_index(), x=\"method\", y=\"native\")\n",
    "plt.show()"
   ]
  },
  {
   "cell_type": "code",
   "execution_count": 237,
   "metadata": {},
   "outputs": [
    {
     "data": {
      "image/png": "[encoded data removed]",
      "text/plain": [
       "<Figure size 432x288 with 1 Axes>"
      ]
     },
     "metadata": {
      "needs_background": "light"
     },
     "output_type": "display_data"
    }
   ],
   "source": [
    "plt.title(\"Total number of unique enriched terms per method\")\n",
    "sns.barplot(data=enr.groupby(\"method\")[\"native\"].nunique().reset_index(), x=\"method\", y=\"native\")\n",
    "plt.show()"
   ]
  },
  {
   "cell_type": "code",
   "execution_count": 238,
   "metadata": {},
   "outputs": [
    {
     "data": {
      "image/png": "[encoded data removed]",
      "text/plain": [
       "<Figure size 432x288 with 1 Axes>"
      ]
     },
     "metadata": {
      "needs_background": "light"
     },
     "output_type": "display_data"
    }
   ],
   "source": [
    "fig, ax = plt.subplots(1, 1)\n",
    "sns.barplot(data=enr.groupby([\"method\", \"dim\"])[\"native\"].count().reset_index(), x=\"method\", y=\"native\", hue=\"dim\", ax=ax)\n",
    "ax.get_legend().remove()\n",
    "ax.set_title(\"Number of enrichments per method and dimension\")\n",
    "plt.show()"
   ]
  },
  {
   "cell_type": "markdown",
   "metadata": {},
   "source": [
    "## Check specificity"
   ]
  },
  {
   "cell_type": "code",
   "execution_count": 239,
   "metadata": {},
   "outputs": [
    {
     "data": {
      "image/png": "[encoded data removed]",
      "text/plain": [
       "<Figure size 432x288 with 1 Axes>"
      ]
     },
     "metadata": {
      "needs_background": "light"
     },
     "output_type": "display_data"
    },
    {
     "data": {
      "image/png": "[encoded data removed]",
      "text/plain": [
       "<Figure size 360x360 with 1 Axes>"
      ]
     },
     "metadata": {
      "needs_background": "light"
     },
     "output_type": "display_data"
    }
   ],
   "source": [
    "enr[\"nfactors\"] = 0\n",
    "nfactors = enr.groupby([\"native\", \"method\"])[\"native\"].count()\n",
    "enr.set_index([\"native\", \"method\"], inplace=True)\n",
    "enr.loc[nfactors.index, \"nfactors\"] = nfactors\n",
    "enr.reset_index(inplace=True)\n",
    "\n",
    "plt.title(\"Number of factors associated to each term\")\n",
    "sns.violinplot(data=enr, x=\"method\", y=\"nfactors\", cut=0)\n",
    "plt.show()\n",
    "\n",
    "enr[\"ndim\"] = 0\n",
    "enr.loc[enr[\"method\"] == \"mofa\", \"ndim\"] = 30\n",
    "enr.loc[enr[\"method\"] == \"mowgli\", \"ndim\"] = 50\n",
    "enr[\"propfactors\"] = enr[\"nfactors\"] / enr[\"ndim\"]\n",
    "enr[\"dummy\"] = 1\n",
    "\n",
    "fig, ax = plt.subplots(1, 1, figsize=(5, 5))\n",
    "ax.set_title(\"Proportion of factors associated to each term\")\n",
    "sns.violinplot(\n",
    "    data=enr,\n",
    "    x=\"dummy\",\n",
    "    hue=\"method\",\n",
    "    y=\"propfactors\",\n",
    "    split=True,\n",
    "    ax=ax,\n",
    "    inner=\"quart\",\n",
    "    cut=0,\n",
    ")\n",
    "plt.show()\n"
   ]
  },
  {
   "cell_type": "code",
   "execution_count": 240,
   "metadata": {},
   "outputs": [
    {
     "name": "stdout",
     "output_type": "stream",
     "text": [
      "Selectivity of MOFA+: 0.3840\n",
      "Selectivity of Mowgli: 0.2202\n"
     ]
    }
   ],
   "source": [
    "selectivity_mofa = (enr[enr[\"method\"] == \"mofa\"][\"native\"].nunique() + 30) / (2*enr[enr[\"method\"] == \"mofa\"][\"native\"].count())\n",
    "selectivity_mowgli = (enr[enr[\"method\"] == \"mowgli\"][\"native\"].nunique() + 50) / (2*enr[enr[\"method\"] == \"mowgli\"][\"native\"].count())\n",
    "print(\"Selectivity of MOFA+: {:.4f}\".format(selectivity_mofa))\n",
    "print(\"Selectivity of Mowgli: {:.4f}\".format(selectivity_mowgli))"
   ]
  },
  {
   "cell_type": "markdown",
   "metadata": {},
   "source": [
    "## Biology-driven check"
   ]
  },
  {
   "cell_type": "code",
   "execution_count": 241,
   "metadata": {},
   "outputs": [
    {
     "data": {
      "text/html": [
       "<div>\n",
       "<style scoped>\n",
       "    .dataframe tbody tr th:only-of-type {\n",
       "        vertical-align: middle;\n",
       "    }\n",
       "\n",
       "    .dataframe tbody tr th {\n",
       "        vertical-align: top;\n",
       "    }\n",
       "\n",
       "    .dataframe thead th {\n",
       "        text-align: right;\n",
       "    }\n",
       "</style>\n",
       "<table border=\"1\" class=\"dataframe\">\n",
       "  <thead>\n",
       "    <tr style=\"text-align: right;\">\n",
       "      <th></th>\n",
       "      <th>native</th>\n",
       "      <th>method</th>\n",
       "      <th>p_value</th>\n",
       "      <th>padj</th>\n",
       "      <th>ES</th>\n",
       "      <th>NES</th>\n",
       "      <th>nMoreExtreme</th>\n",
       "      <th>size</th>\n",
       "      <th>dim</th>\n",
       "      <th>source</th>\n",
       "      <th>name</th>\n",
       "      <th>minlogp</th>\n",
       "      <th>nfactors</th>\n",
       "      <th>ndim</th>\n",
       "      <th>propfactors</th>\n",
       "      <th>dummy</th>\n",
       "    </tr>\n",
       "  </thead>\n",
       "  <tbody>\n",
       "    <tr>\n",
       "      <th>0</th>\n",
       "      <td>B Cells</td>\n",
       "      <td>mofa</td>\n",
       "      <td>0.001271</td>\n",
       "      <td>0.054450</td>\n",
       "      <td>0.896699</td>\n",
       "      <td>1.485698</td>\n",
       "      <td>0</td>\n",
       "      <td>44</td>\n",
       "      <td>0</td>\n",
       "      <td>PanglaoDB_Augmented_2021</td>\n",
       "      <td>B Cells</td>\n",
       "      <td>2.895975</td>\n",
       "      <td>2</td>\n",
       "      <td>30</td>\n",
       "      <td>0.066667</td>\n",
       "      <td>1</td>\n",
       "    </tr>\n",
       "    <tr>\n",
       "      <th>1</th>\n",
       "      <td>B Cells Memory</td>\n",
       "      <td>mofa</td>\n",
       "      <td>0.002740</td>\n",
       "      <td>0.054450</td>\n",
       "      <td>0.929249</td>\n",
       "      <td>1.448481</td>\n",
       "      <td>1</td>\n",
       "      <td>28</td>\n",
       "      <td>0</td>\n",
       "      <td>PanglaoDB_Augmented_2021</td>\n",
       "      <td>B Cells Memory</td>\n",
       "      <td>2.562293</td>\n",
       "      <td>2</td>\n",
       "      <td>30</td>\n",
       "      <td>0.066667</td>\n",
       "      <td>1</td>\n",
       "    </tr>\n",
       "    <tr>\n",
       "      <th>2</th>\n",
       "      <td>B Cells Naive</td>\n",
       "      <td>mofa</td>\n",
       "      <td>0.001319</td>\n",
       "      <td>0.054450</td>\n",
       "      <td>0.891552</td>\n",
       "      <td>1.447116</td>\n",
       "      <td>0</td>\n",
       "      <td>35</td>\n",
       "      <td>0</td>\n",
       "      <td>PanglaoDB_Augmented_2021</td>\n",
       "      <td>B Cells Naive</td>\n",
       "      <td>2.879669</td>\n",
       "      <td>1</td>\n",
       "      <td>30</td>\n",
       "      <td>0.033333</td>\n",
       "      <td>1</td>\n",
       "    </tr>\n",
       "    <tr>\n",
       "      <th>3</th>\n",
       "      <td>Decidual Cells</td>\n",
       "      <td>mofa</td>\n",
       "      <td>0.007220</td>\n",
       "      <td>0.083935</td>\n",
       "      <td>-0.891624</td>\n",
       "      <td>-1.560865</td>\n",
       "      <td>1</td>\n",
       "      <td>24</td>\n",
       "      <td>0</td>\n",
       "      <td>PanglaoDB_Augmented_2021</td>\n",
       "      <td>Decidual Cells</td>\n",
       "      <td>2.141450</td>\n",
       "      <td>2</td>\n",
       "      <td>30</td>\n",
       "      <td>0.066667</td>\n",
       "      <td>1</td>\n",
       "    </tr>\n",
       "    <tr>\n",
       "      <th>4</th>\n",
       "      <td>Dendritic Cells</td>\n",
       "      <td>mofa</td>\n",
       "      <td>0.039241</td>\n",
       "      <td>0.260669</td>\n",
       "      <td>0.786072</td>\n",
       "      <td>1.319408</td>\n",
       "      <td>30</td>\n",
       "      <td>51</td>\n",
       "      <td>0</td>\n",
       "      <td>PanglaoDB_Augmented_2021</td>\n",
       "      <td>Dendritic Cells</td>\n",
       "      <td>1.406265</td>\n",
       "      <td>2</td>\n",
       "      <td>30</td>\n",
       "      <td>0.066667</td>\n",
       "      <td>1</td>\n",
       "    </tr>\n",
       "  </tbody>\n",
       "</table>\n",
       "</div>"
      ],
      "text/plain": [
       "            native method   p_value      padj        ES       NES  \\\n",
       "0          B Cells   mofa  0.001271  0.054450  0.896699  1.485698   \n",
       "1   B Cells Memory   mofa  0.002740  0.054450  0.929249  1.448481   \n",
       "2    B Cells Naive   mofa  0.001319  0.054450  0.891552  1.447116   \n",
       "3   Decidual Cells   mofa  0.007220  0.083935 -0.891624 -1.560865   \n",
       "4  Dendritic Cells   mofa  0.039241  0.260669  0.786072  1.319408   \n",
       "\n",
       "   nMoreExtreme  size  dim                    source             name  \\\n",
       "0             0    44    0  PanglaoDB_Augmented_2021          B Cells   \n",
       "1             1    28    0  PanglaoDB_Augmented_2021   B Cells Memory   \n",
       "2             0    35    0  PanglaoDB_Augmented_2021    B Cells Naive   \n",
       "3             1    24    0  PanglaoDB_Augmented_2021   Decidual Cells   \n",
       "4            30    51    0  PanglaoDB_Augmented_2021  Dendritic Cells   \n",
       "\n",
       "    minlogp  nfactors  ndim  propfactors  dummy  \n",
       "0  2.895975         2    30     0.066667      1  \n",
       "1  2.562293         2    30     0.066667      1  \n",
       "2  2.879669         1    30     0.033333      1  \n",
       "3  2.141450         2    30     0.066667      1  \n",
       "4  1.406265         2    30     0.066667      1  "
      ]
     },
     "execution_count": 241,
     "metadata": {},
     "output_type": "execute_result"
    }
   ],
   "source": [
    "enr.head()"
   ]
  },
  {
   "cell_type": "code",
   "execution_count": 242,
   "metadata": {},
   "outputs": [
    {
     "data": {
      "image/png": "[encoded data removed]",
      "text/plain": [
       "<Figure size 432x288 with 1 Axes>"
      ]
     },
     "metadata": {
      "needs_background": "light"
     },
     "output_type": "display_data"
    },
    {
     "data": {
      "image/png": "[encoded data removed]",
      "text/plain": [
       "<Figure size 432x288 with 1 Axes>"
      ]
     },
     "metadata": {
      "needs_background": "light"
     },
     "output_type": "display_data"
    }
   ],
   "source": [
    "# TODO: check this, it seems weird\n",
    "def barplot_matches(keywords, case=False):\n",
    "    enr[\"match\"] = enr[\"name\"].str.contains(keywords, case=case)\n",
    "    fig, ax = plt.subplots(1, 1)\n",
    "    sns.barplot(\n",
    "        data=enr.groupby([\"method\", \"dim\"])[\"match\"].sum().reset_index(),\n",
    "        x=\"method\",\n",
    "        y=\"match\",\n",
    "        hue=\"dim\",\n",
    "        ax=ax,\n",
    "    )\n",
    "    ax.set_title(f'Matches for \"{keywords}\"')\n",
    "    ax.get_legend().remove()\n",
    "    plt.show()\n",
    "\n",
    "\n",
    "barplot_matches(\"natural killer|NK cell\")\n",
    "barplot_matches(\"B cell\")"
   ]
  },
  {
   "cell_type": "code",
   "execution_count": 243,
   "metadata": {},
   "outputs": [
    {
     "data": {
      "image/png": "[encoded data removed]",
      "text/plain": [
       "<Figure size 432x288 with 1 Axes>"
      ]
     },
     "metadata": {
      "needs_background": "light"
     },
     "output_type": "display_data"
    },
    {
     "data": {
      "image/png": "[encoded data removed]",
      "text/plain": [
       "<Figure size 432x288 with 1 Axes>"
      ]
     },
     "metadata": {
      "needs_background": "light"
     },
     "output_type": "display_data"
    }
   ],
   "source": [
    "def stripplot_matches(keywords, case=False):\n",
    "    fig, ax = plt.subplots(1, 1)\n",
    "    sns.stripplot(\n",
    "        data=enr[enr[\"name\"].str.contains(keywords, case=case)],\n",
    "        x=\"dim\",\n",
    "        y=\"minlogp\",\n",
    "        hue=\"method\",\n",
    "    )\n",
    "    ax.set_title(f\"P-values of matches for \\\"{keywords}\\\"\")\n",
    "    plt.show()\n",
    "\n",
    "stripplot_matches(\"natural killer|NK cell\")\n",
    "stripplot_matches(\"B cell\")"
   ]
  },
  {
   "cell_type": "code",
   "execution_count": null,
   "metadata": {},
   "outputs": [],
   "source": []
  }
 ],
 "metadata": {
  "kernelspec": {
   "display_name": "Python 3.8.5 ('base')",
   "language": "python",
   "name": "python3"
  },
  "language_info": {
   "codemirror_mode": {
    "name": "ipython",
    "version": 3
   },
   "file_extension": ".py",
   "mimetype": "text/x-python",
   "name": "python",
   "nbconvert_exporter": "python",
   "pygments_lexer": "ipython3",
   "version": "3.8.5"
  },
  "orig_nbformat": 4,
  "vscode": {
   "interpreter": {
    "hash": "8ba723ea251c3bb47b49f140ac541c116def08dcde9f0d62bfab2e65e5e12241"
   }
  }
 },
 "nbformat": 4,
 "nbformat_minor": 2
}
