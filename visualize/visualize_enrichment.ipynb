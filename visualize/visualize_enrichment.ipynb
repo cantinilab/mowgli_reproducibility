{
 "cells": [
  {
   "cell_type": "code",
   "execution_count": 155,
   "metadata": {},
   "outputs": [],
   "source": [
    "import pandas as pd\n",
    "import numpy as np\n",
    "import matplotlib.pyplot as plt\n",
    "import seaborn as sns"
   ]
  },
  {
   "cell_type": "code",
   "execution_count": 156,
   "metadata": {},
   "outputs": [],
   "source": [
    "# enrichment_file = \"fgsea\"\n",
    "enrichment_file = \"gprofiler\"\n",
    "\n",
    "if enrichment_file == \"fgsea\": # Get fgsea results.\n",
    "    enr = pd.read_csv(\"/users/csb/huizing/Documents/PhD/Code/mowgli_reproducibility/enrich/fgsea.csv\", index_col=0)\n",
    "    enr.rename(columns={\"pathway\": \"native\", \"col\": \"dim\", \"pval\": \"p_value\"}, inplace=True)\n",
    "    enr[\"dim\"] = enr[\"dim\"].str.replace(\"X\", \"\").astype(int)\n",
    "    # Acutally, it should be padj instead of pval, but nothing is significant...\n",
    "\n",
    "elif enrichment_file == \"gprofiler\": # Get gprofiler results. \n",
    "    enr = pd.read_csv(\"/users/csb/huizing/Documents/PhD/Code/mowgli_reproducibility/enrich/enrichment.csv\", index_col=0)\n",
    "    enr[\"dim\"] = enr[\"query\"].str.split(\" \", expand=True)[1].astype(int)\n",
    "\n",
    "enr[\"name\"] = enr[\"native\"]"
   ]
  },
  {
   "cell_type": "code",
   "execution_count": 157,
   "metadata": {},
   "outputs": [],
   "source": [
    "# enr = enr[enr[\"source\"] == \"GO:MF\"] # Molecular function\n",
    "# enr = enr[enr[\"source\"] == \"GO:CC\"] # Cellular component\n",
    "# enr = enr[enr[\"source\"] == \"GO:BP\"] # Biological process\n",
    "# enr = enr[enr[\"source\"] == \"KEGG\"] # KEGG pathways\n",
    "# enr = enr[enr[\"source\"] == \"REAC\"] # Reactome pathways"
   ]
  },
  {
   "cell_type": "code",
   "execution_count": 158,
   "metadata": {},
   "outputs": [],
   "source": [
    "enr = enr[enr[\"p_value\"] < .05]"
   ]
  },
  {
   "cell_type": "code",
   "execution_count": 159,
   "metadata": {},
   "outputs": [],
   "source": [
    "enr[\"minlogp\"] = -np.log10(enr[\"p_value\"])"
   ]
  },
  {
   "cell_type": "code",
   "execution_count": 160,
   "metadata": {},
   "outputs": [
    {
     "data": {
      "text/html": [
       "<div>\n",
       "<style scoped>\n",
       "    .dataframe tbody tr th:only-of-type {\n",
       "        vertical-align: middle;\n",
       "    }\n",
       "\n",
       "    .dataframe tbody tr th {\n",
       "        vertical-align: top;\n",
       "    }\n",
       "\n",
       "    .dataframe thead th {\n",
       "        text-align: right;\n",
       "    }\n",
       "</style>\n",
       "<table border=\"1\" class=\"dataframe\">\n",
       "  <thead>\n",
       "    <tr style=\"text-align: right;\">\n",
       "      <th></th>\n",
       "      <th>source</th>\n",
       "      <th>native</th>\n",
       "      <th>name</th>\n",
       "      <th>p_value</th>\n",
       "      <th>significant</th>\n",
       "      <th>description</th>\n",
       "      <th>term_size</th>\n",
       "      <th>query_size</th>\n",
       "      <th>intersection_size</th>\n",
       "      <th>effective_domain_size</th>\n",
       "      <th>precision</th>\n",
       "      <th>recall</th>\n",
       "      <th>query</th>\n",
       "      <th>parents</th>\n",
       "      <th>method</th>\n",
       "      <th>dim</th>\n",
       "      <th>minlogp</th>\n",
       "    </tr>\n",
       "  </thead>\n",
       "  <tbody>\n",
       "    <tr>\n",
       "      <th>0</th>\n",
       "      <td>PanglaoDB_Augmented_2021</td>\n",
       "      <td>Alveolar Macrophages</td>\n",
       "      <td>Alveolar Macrophages</td>\n",
       "      <td>1.896272e-18</td>\n",
       "      <td>True</td>\n",
       "      <td>NaN</td>\n",
       "      <td>123</td>\n",
       "      <td>107</td>\n",
       "      <td>24</td>\n",
       "      <td>6654</td>\n",
       "      <td>0.224299</td>\n",
       "      <td>0.195122</td>\n",
       "      <td>mofa 2</td>\n",
       "      <td>[]</td>\n",
       "      <td>mofa</td>\n",
       "      <td>2</td>\n",
       "      <td>17.722099</td>\n",
       "    </tr>\n",
       "    <tr>\n",
       "      <th>1</th>\n",
       "      <td>PanglaoDB_Augmented_2021</td>\n",
       "      <td>Kupffer Cells</td>\n",
       "      <td>Kupffer Cells</td>\n",
       "      <td>9.670850e-14</td>\n",
       "      <td>True</td>\n",
       "      <td>NaN</td>\n",
       "      <td>137</td>\n",
       "      <td>107</td>\n",
       "      <td>21</td>\n",
       "      <td>6654</td>\n",
       "      <td>0.196262</td>\n",
       "      <td>0.153285</td>\n",
       "      <td>mofa 2</td>\n",
       "      <td>[]</td>\n",
       "      <td>mofa</td>\n",
       "      <td>2</td>\n",
       "      <td>13.014535</td>\n",
       "    </tr>\n",
       "    <tr>\n",
       "      <th>2</th>\n",
       "      <td>PanglaoDB_Augmented_2021</td>\n",
       "      <td>Monocytes</td>\n",
       "      <td>Monocytes</td>\n",
       "      <td>1.376662e-13</td>\n",
       "      <td>True</td>\n",
       "      <td>NaN</td>\n",
       "      <td>176</td>\n",
       "      <td>107</td>\n",
       "      <td>23</td>\n",
       "      <td>6654</td>\n",
       "      <td>0.214953</td>\n",
       "      <td>0.130682</td>\n",
       "      <td>mofa 2</td>\n",
       "      <td>[]</td>\n",
       "      <td>mofa</td>\n",
       "      <td>2</td>\n",
       "      <td>12.861173</td>\n",
       "    </tr>\n",
       "    <tr>\n",
       "      <th>3</th>\n",
       "      <td>PanglaoDB_Augmented_2021</td>\n",
       "      <td>B Cells Naive</td>\n",
       "      <td>B Cells Naive</td>\n",
       "      <td>1.702072e-13</td>\n",
       "      <td>True</td>\n",
       "      <td>NaN</td>\n",
       "      <td>151</td>\n",
       "      <td>88</td>\n",
       "      <td>20</td>\n",
       "      <td>6654</td>\n",
       "      <td>0.227273</td>\n",
       "      <td>0.132450</td>\n",
       "      <td>mofa 1</td>\n",
       "      <td>[]</td>\n",
       "      <td>mofa</td>\n",
       "      <td>1</td>\n",
       "      <td>12.769022</td>\n",
       "    </tr>\n",
       "    <tr>\n",
       "      <th>4</th>\n",
       "      <td>PanglaoDB_Augmented_2021</td>\n",
       "      <td>Osteoclast Precursor Cells</td>\n",
       "      <td>Osteoclast Precursor Cells</td>\n",
       "      <td>2.270720e-12</td>\n",
       "      <td>True</td>\n",
       "      <td>NaN</td>\n",
       "      <td>107</td>\n",
       "      <td>107</td>\n",
       "      <td>18</td>\n",
       "      <td>6654</td>\n",
       "      <td>0.168224</td>\n",
       "      <td>0.168224</td>\n",
       "      <td>mofa 2</td>\n",
       "      <td>[]</td>\n",
       "      <td>mofa</td>\n",
       "      <td>2</td>\n",
       "      <td>11.643836</td>\n",
       "    </tr>\n",
       "  </tbody>\n",
       "</table>\n",
       "</div>"
      ],
      "text/plain": [
       "                     source                      native  \\\n",
       "0  PanglaoDB_Augmented_2021        Alveolar Macrophages   \n",
       "1  PanglaoDB_Augmented_2021               Kupffer Cells   \n",
       "2  PanglaoDB_Augmented_2021                   Monocytes   \n",
       "3  PanglaoDB_Augmented_2021               B Cells Naive   \n",
       "4  PanglaoDB_Augmented_2021  Osteoclast Precursor Cells   \n",
       "\n",
       "                         name       p_value  significant  description  \\\n",
       "0        Alveolar Macrophages  1.896272e-18         True          NaN   \n",
       "1               Kupffer Cells  9.670850e-14         True          NaN   \n",
       "2                   Monocytes  1.376662e-13         True          NaN   \n",
       "3               B Cells Naive  1.702072e-13         True          NaN   \n",
       "4  Osteoclast Precursor Cells  2.270720e-12         True          NaN   \n",
       "\n",
       "   term_size  query_size  intersection_size  effective_domain_size  precision  \\\n",
       "0        123         107                 24                   6654   0.224299   \n",
       "1        137         107                 21                   6654   0.196262   \n",
       "2        176         107                 23                   6654   0.214953   \n",
       "3        151          88                 20                   6654   0.227273   \n",
       "4        107         107                 18                   6654   0.168224   \n",
       "\n",
       "     recall   query parents method  dim    minlogp  \n",
       "0  0.195122  mofa 2      []   mofa    2  17.722099  \n",
       "1  0.153285  mofa 2      []   mofa    2  13.014535  \n",
       "2  0.130682  mofa 2      []   mofa    2  12.861173  \n",
       "3  0.132450  mofa 1      []   mofa    1  12.769022  \n",
       "4  0.168224  mofa 2      []   mofa    2  11.643836  "
      ]
     },
     "execution_count": 160,
     "metadata": {},
     "output_type": "execute_result"
    }
   ],
   "source": [
    "enr.head()"
   ]
  },
  {
   "cell_type": "markdown",
   "metadata": {},
   "source": [
    "## Count enrichments"
   ]
  },
  {
   "cell_type": "code",
   "execution_count": 161,
   "metadata": {},
   "outputs": [
    {
     "data": {
      "image/png": "[encoded data removed]",
      "text/plain": [
       "<Figure size 432x288 with 1 Axes>"
      ]
     },
     "metadata": {
      "needs_background": "light"
     },
     "output_type": "display_data"
    }
   ],
   "source": [
    "plt.title(\"Total number of enriched terms per method\")\n",
    "sns.barplot(data=enr.groupby(\"method\").count().reset_index(), x=\"method\", y=\"native\")\n",
    "plt.show()"
   ]
  },
  {
   "cell_type": "code",
   "execution_count": 162,
   "metadata": {},
   "outputs": [
    {
     "data": {
      "image/png": "[encoded data removed]",
      "text/plain": [
       "<Figure size 432x288 with 1 Axes>"
      ]
     },
     "metadata": {
      "needs_background": "light"
     },
     "output_type": "display_data"
    }
   ],
   "source": [
    "plt.title(\"Total number of unique enriched terms per method\")\n",
    "sns.barplot(data=enr.groupby(\"method\")[\"native\"].nunique().reset_index(), x=\"method\", y=\"native\")\n",
    "plt.show()"
   ]
  },
  {
   "cell_type": "code",
   "execution_count": 163,
   "metadata": {},
   "outputs": [
    {
     "data": {
      "image/png": "[encoded data removed]",
      "text/plain": [
       "<Figure size 432x288 with 1 Axes>"
      ]
     },
     "metadata": {
      "needs_background": "light"
     },
     "output_type": "display_data"
    }
   ],
   "source": [
    "fig, ax = plt.subplots(1, 1)\n",
    "sns.barplot(data=enr.groupby([\"method\", \"dim\"])[\"native\"].count().reset_index(), x=\"method\", y=\"native\", hue=\"dim\", ax=ax)\n",
    "ax.get_legend().remove()\n",
    "ax.set_title(\"Number of enrichments per method and dimension\")\n",
    "plt.show()"
   ]
  },
  {
   "cell_type": "markdown",
   "metadata": {},
   "source": [
    "## Check specificity"
   ]
  },
  {
   "cell_type": "code",
   "execution_count": 164,
   "metadata": {},
   "outputs": [
    {
     "data": {
      "image/png": "[encoded data removed]",
      "text/plain": [
       "<Figure size 432x288 with 1 Axes>"
      ]
     },
     "metadata": {
      "needs_background": "light"
     },
     "output_type": "display_data"
    },
    {
     "data": {
      "image/png": "[encoded data removed]",
      "text/plain": [
       "<Figure size 360x360 with 1 Axes>"
      ]
     },
     "metadata": {
      "needs_background": "light"
     },
     "output_type": "display_data"
    }
   ],
   "source": [
    "enr[\"nfactors\"] = 0\n",
    "nfactors = enr.groupby([\"native\", \"method\"])[\"native\"].count()\n",
    "enr.set_index([\"native\", \"method\"], inplace=True)\n",
    "enr.loc[nfactors.index, \"nfactors\"] = nfactors\n",
    "enr.reset_index(inplace=True)\n",
    "\n",
    "plt.title(\"Number of factors associated to each term\")\n",
    "sns.violinplot(data=enr, x=\"method\", y=\"nfactors\", cut=0)\n",
    "plt.show()\n",
    "\n",
    "enr[\"ndim\"] = 0\n",
    "enr.loc[enr[\"method\"] == \"mofa\", \"ndim\"] = 30\n",
    "enr.loc[enr[\"method\"] == \"mowgli\", \"ndim\"] = 50\n",
    "enr[\"propfactors\"] = enr[\"nfactors\"] / enr[\"ndim\"]\n",
    "enr[\"dummy\"] = 1\n",
    "\n",
    "fig, ax = plt.subplots(1, 1, figsize=(5, 5))\n",
    "ax.set_title(\"Proportion of factors associated to each term\")\n",
    "sns.violinplot(\n",
    "    data=enr,\n",
    "    x=\"dummy\",\n",
    "    hue=\"method\",\n",
    "    y=\"propfactors\",\n",
    "    split=True,\n",
    "    ax=ax,\n",
    "    inner=\"quart\",\n",
    "    cut=0,\n",
    ")\n",
    "plt.show()\n"
   ]
  },
  {
   "cell_type": "code",
   "execution_count": 181,
   "metadata": {},
   "outputs": [
    {
     "name": "stdout",
     "output_type": "stream",
     "text": [
      "Selectivity of MOFA+: 0.1245\n",
      "Selectivity of Mowgli: 0.1295\n"
     ]
    }
   ],
   "source": [
    "selectivity_mofa = (enr[enr[\"method\"] == \"mofa\"][\"native\"].nunique() + 30) / (2*enr[enr[\"method\"] == \"mofa\"][\"native\"].count())\n",
    "selectivity_mowgli = (enr[enr[\"method\"] == \"mowgli\"][\"native\"].nunique() + 50) / (2*enr[enr[\"method\"] == \"mowgli\"][\"native\"].count())\n",
    "print(\"Selectivity of MOFA+: {:.4f}\".format(selectivity_mofa))\n",
    "print(\"Selectivity of Mowgli: {:.4f}\".format(selectivity_mowgli))"
   ]
  },
  {
   "cell_type": "markdown",
   "metadata": {},
   "source": [
    "## Biology-driven check"
   ]
  },
  {
   "cell_type": "code",
   "execution_count": 166,
   "metadata": {},
   "outputs": [
    {
     "data": {
      "text/html": [
       "<div>\n",
       "<style scoped>\n",
       "    .dataframe tbody tr th:only-of-type {\n",
       "        vertical-align: middle;\n",
       "    }\n",
       "\n",
       "    .dataframe tbody tr th {\n",
       "        vertical-align: top;\n",
       "    }\n",
       "\n",
       "    .dataframe thead th {\n",
       "        text-align: right;\n",
       "    }\n",
       "</style>\n",
       "<table border=\"1\" class=\"dataframe\">\n",
       "  <thead>\n",
       "    <tr style=\"text-align: right;\">\n",
       "      <th></th>\n",
       "      <th>native</th>\n",
       "      <th>method</th>\n",
       "      <th>source</th>\n",
       "      <th>name</th>\n",
       "      <th>p_value</th>\n",
       "      <th>significant</th>\n",
       "      <th>description</th>\n",
       "      <th>term_size</th>\n",
       "      <th>query_size</th>\n",
       "      <th>intersection_size</th>\n",
       "      <th>...</th>\n",
       "      <th>precision</th>\n",
       "      <th>recall</th>\n",
       "      <th>query</th>\n",
       "      <th>parents</th>\n",
       "      <th>dim</th>\n",
       "      <th>minlogp</th>\n",
       "      <th>nfactors</th>\n",
       "      <th>ndim</th>\n",
       "      <th>propfactors</th>\n",
       "      <th>dummy</th>\n",
       "    </tr>\n",
       "  </thead>\n",
       "  <tbody>\n",
       "    <tr>\n",
       "      <th>0</th>\n",
       "      <td>Alveolar Macrophages</td>\n",
       "      <td>mofa</td>\n",
       "      <td>PanglaoDB_Augmented_2021</td>\n",
       "      <td>Alveolar Macrophages</td>\n",
       "      <td>1.896272e-18</td>\n",
       "      <td>True</td>\n",
       "      <td>NaN</td>\n",
       "      <td>123</td>\n",
       "      <td>107</td>\n",
       "      <td>24</td>\n",
       "      <td>...</td>\n",
       "      <td>0.224299</td>\n",
       "      <td>0.195122</td>\n",
       "      <td>mofa 2</td>\n",
       "      <td>[]</td>\n",
       "      <td>2</td>\n",
       "      <td>17.722099</td>\n",
       "      <td>8</td>\n",
       "      <td>30</td>\n",
       "      <td>0.266667</td>\n",
       "      <td>1</td>\n",
       "    </tr>\n",
       "    <tr>\n",
       "      <th>1</th>\n",
       "      <td>Kupffer Cells</td>\n",
       "      <td>mofa</td>\n",
       "      <td>PanglaoDB_Augmented_2021</td>\n",
       "      <td>Kupffer Cells</td>\n",
       "      <td>9.670850e-14</td>\n",
       "      <td>True</td>\n",
       "      <td>NaN</td>\n",
       "      <td>137</td>\n",
       "      <td>107</td>\n",
       "      <td>21</td>\n",
       "      <td>...</td>\n",
       "      <td>0.196262</td>\n",
       "      <td>0.153285</td>\n",
       "      <td>mofa 2</td>\n",
       "      <td>[]</td>\n",
       "      <td>2</td>\n",
       "      <td>13.014535</td>\n",
       "      <td>6</td>\n",
       "      <td>30</td>\n",
       "      <td>0.200000</td>\n",
       "      <td>1</td>\n",
       "    </tr>\n",
       "    <tr>\n",
       "      <th>2</th>\n",
       "      <td>Monocytes</td>\n",
       "      <td>mofa</td>\n",
       "      <td>PanglaoDB_Augmented_2021</td>\n",
       "      <td>Monocytes</td>\n",
       "      <td>1.376662e-13</td>\n",
       "      <td>True</td>\n",
       "      <td>NaN</td>\n",
       "      <td>176</td>\n",
       "      <td>107</td>\n",
       "      <td>23</td>\n",
       "      <td>...</td>\n",
       "      <td>0.214953</td>\n",
       "      <td>0.130682</td>\n",
       "      <td>mofa 2</td>\n",
       "      <td>[]</td>\n",
       "      <td>2</td>\n",
       "      <td>12.861173</td>\n",
       "      <td>9</td>\n",
       "      <td>30</td>\n",
       "      <td>0.300000</td>\n",
       "      <td>1</td>\n",
       "    </tr>\n",
       "    <tr>\n",
       "      <th>3</th>\n",
       "      <td>B Cells Naive</td>\n",
       "      <td>mofa</td>\n",
       "      <td>PanglaoDB_Augmented_2021</td>\n",
       "      <td>B Cells Naive</td>\n",
       "      <td>1.702072e-13</td>\n",
       "      <td>True</td>\n",
       "      <td>NaN</td>\n",
       "      <td>151</td>\n",
       "      <td>88</td>\n",
       "      <td>20</td>\n",
       "      <td>...</td>\n",
       "      <td>0.227273</td>\n",
       "      <td>0.132450</td>\n",
       "      <td>mofa 1</td>\n",
       "      <td>[]</td>\n",
       "      <td>1</td>\n",
       "      <td>12.769022</td>\n",
       "      <td>10</td>\n",
       "      <td>30</td>\n",
       "      <td>0.333333</td>\n",
       "      <td>1</td>\n",
       "    </tr>\n",
       "    <tr>\n",
       "      <th>4</th>\n",
       "      <td>Osteoclast Precursor Cells</td>\n",
       "      <td>mofa</td>\n",
       "      <td>PanglaoDB_Augmented_2021</td>\n",
       "      <td>Osteoclast Precursor Cells</td>\n",
       "      <td>2.270720e-12</td>\n",
       "      <td>True</td>\n",
       "      <td>NaN</td>\n",
       "      <td>107</td>\n",
       "      <td>107</td>\n",
       "      <td>18</td>\n",
       "      <td>...</td>\n",
       "      <td>0.168224</td>\n",
       "      <td>0.168224</td>\n",
       "      <td>mofa 2</td>\n",
       "      <td>[]</td>\n",
       "      <td>2</td>\n",
       "      <td>11.643836</td>\n",
       "      <td>7</td>\n",
       "      <td>30</td>\n",
       "      <td>0.233333</td>\n",
       "      <td>1</td>\n",
       "    </tr>\n",
       "  </tbody>\n",
       "</table>\n",
       "<p>5 rows × 21 columns</p>\n",
       "</div>"
      ],
      "text/plain": [
       "                       native method                    source  \\\n",
       "0        Alveolar Macrophages   mofa  PanglaoDB_Augmented_2021   \n",
       "1               Kupffer Cells   mofa  PanglaoDB_Augmented_2021   \n",
       "2                   Monocytes   mofa  PanglaoDB_Augmented_2021   \n",
       "3               B Cells Naive   mofa  PanglaoDB_Augmented_2021   \n",
       "4  Osteoclast Precursor Cells   mofa  PanglaoDB_Augmented_2021   \n",
       "\n",
       "                         name       p_value  significant  description  \\\n",
       "0        Alveolar Macrophages  1.896272e-18         True          NaN   \n",
       "1               Kupffer Cells  9.670850e-14         True          NaN   \n",
       "2                   Monocytes  1.376662e-13         True          NaN   \n",
       "3               B Cells Naive  1.702072e-13         True          NaN   \n",
       "4  Osteoclast Precursor Cells  2.270720e-12         True          NaN   \n",
       "\n",
       "   term_size  query_size  intersection_size  ...  precision    recall   query  \\\n",
       "0        123         107                 24  ...   0.224299  0.195122  mofa 2   \n",
       "1        137         107                 21  ...   0.196262  0.153285  mofa 2   \n",
       "2        176         107                 23  ...   0.214953  0.130682  mofa 2   \n",
       "3        151          88                 20  ...   0.227273  0.132450  mofa 1   \n",
       "4        107         107                 18  ...   0.168224  0.168224  mofa 2   \n",
       "\n",
       "  parents dim    minlogp  nfactors  ndim  propfactors  dummy  \n",
       "0      []   2  17.722099         8    30     0.266667      1  \n",
       "1      []   2  13.014535         6    30     0.200000      1  \n",
       "2      []   2  12.861173         9    30     0.300000      1  \n",
       "3      []   1  12.769022        10    30     0.333333      1  \n",
       "4      []   2  11.643836         7    30     0.233333      1  \n",
       "\n",
       "[5 rows x 21 columns]"
      ]
     },
     "execution_count": 166,
     "metadata": {},
     "output_type": "execute_result"
    }
   ],
   "source": [
    "enr.head()"
   ]
  },
  {
   "cell_type": "code",
   "execution_count": 167,
   "metadata": {},
   "outputs": [
    {
     "data": {
      "image/png": "[encoded data removed]",
      "text/plain": [
       "<Figure size 432x288 with 1 Axes>"
      ]
     },
     "metadata": {
      "needs_background": "light"
     },
     "output_type": "display_data"
    },
    {
     "data": {
      "image/png": "[encoded data removed]",
      "text/plain": [
       "<Figure size 432x288 with 1 Axes>"
      ]
     },
     "metadata": {
      "needs_background": "light"
     },
     "output_type": "display_data"
    }
   ],
   "source": [
    "def barplot_matches(keywords, case=False):\n",
    "    enr[\"match\"] = enr[\"name\"].str.contains(keywords, case=case)\n",
    "    fig, ax = plt.subplots(1, 1)\n",
    "    sns.barplot(\n",
    "        data=enr.groupby([\"method\", \"dim\"])[\"match\"].sum().reset_index(),\n",
    "        x=\"method\",\n",
    "        y=\"match\",\n",
    "        hue=\"dim\",\n",
    "        ax=ax,\n",
    "    )\n",
    "    ax.set_title(f'Matches for \"{keywords}\"')\n",
    "    ax.get_legend().remove()\n",
    "    plt.show()\n",
    "\n",
    "\n",
    "barplot_matches(\"natural killer\")\n",
    "barplot_matches(\"B cell\")\n"
   ]
  },
  {
   "cell_type": "code",
   "execution_count": 169,
   "metadata": {},
   "outputs": [
    {
     "data": {
      "image/png": "[encoded data removed]",
      "text/plain": [
       "<Figure size 432x288 with 1 Axes>"
      ]
     },
     "metadata": {
      "needs_background": "light"
     },
     "output_type": "display_data"
    },
    {
     "data": {
      "image/png": "[encoded data removed]",
      "text/plain": [
       "<Figure size 432x288 with 1 Axes>"
      ]
     },
     "metadata": {
      "needs_background": "light"
     },
     "output_type": "display_data"
    }
   ],
   "source": [
    "def stripplot_matches(keywords, case=False):\n",
    "    fig, ax = plt.subplots(1, 1)\n",
    "    sns.stripplot(\n",
    "        data=enr[enr[\"name\"].str.contains(keywords, case=case)],\n",
    "        x=\"dim\",\n",
    "        y=\"minlogp\",\n",
    "        hue=\"method\",\n",
    "    )\n",
    "    ax.set_title(f\"P-values of matches for \\\"{keywords}\\\"\")\n",
    "    plt.show()\n",
    "\n",
    "stripplot_matches(\"natural killer\")\n",
    "stripplot_matches(\"B cell\")"
   ]
  },
  {
   "cell_type": "code",
   "execution_count": null,
   "metadata": {},
   "outputs": [],
   "source": []
  }
 ],
 "metadata": {
  "kernelspec": {
   "display_name": "Python 3.8.5 ('base')",
   "language": "python",
   "name": "python3"
  },
  "language_info": {
   "codemirror_mode": {
    "name": "ipython",
    "version": 3
   },
   "file_extension": ".py",
   "mimetype": "text/x-python",
   "name": "python",
   "nbconvert_exporter": "python",
   "pygments_lexer": "ipython3",
   "version": "3.8.5"
  },
  "orig_nbformat": 4,
  "vscode": {
   "interpreter": {
    "hash": "8ba723ea251c3bb47b49f140ac541c116def08dcde9f0d62bfab2e65e5e12241"
   }
  }
 },
 "nbformat": 4,
 "nbformat_minor": 2
}
