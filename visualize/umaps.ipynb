{
 "cells": [
  {
   "cell_type": "markdown",
   "metadata": {},
   "source": [
    "# Generate the figures"
   ]
  },
  {
   "cell_type": "markdown",
   "metadata": {},
   "source": [
    "## Imports"
   ]
  },
  {
   "cell_type": "code",
   "execution_count": 1,
   "metadata": {},
   "outputs": [
    {
     "name": "stderr",
     "output_type": "stream",
     "text": [
      "<frozen importlib._bootstrap>:219: RuntimeWarning: scipy._lib.messagestream.MessageStream size changed, may indicate binary incompatibility. Expected 56 from C header, got 64 from PyObject\n"
     ]
    }
   ],
   "source": [
    "# Imports\n",
    "import matplotlib.pyplot as plt\n",
    "import numpy as np\n",
    "import pickle\n",
    "import seaborn as sns\n",
    "import os\n",
    "import pandas as pd\n",
    "import muon as mu\n",
    "import scanpy as sc\n",
    "import mofax"
   ]
  },
  {
   "cell_type": "markdown",
   "metadata": {},
   "source": [
    "## Make plots pretty"
   ]
  },
  {
   "cell_type": "code",
   "execution_count": 2,
   "metadata": {},
   "outputs": [],
   "source": [
    "# Plots configuration.\n",
    "\n",
    "from tueplots import axes as tue_axes\n",
    "from tueplots import cycler as tue_cycler\n",
    "from tueplots import fonts as tue_fonts\n",
    "from tueplots.constants import markers as tue_markers\n",
    "from tueplots.constants.color import palettes as tue_palettes\n",
    "\n",
    "plt.rcParams.update({\"figure.dpi\": 80})\n",
    "plt.rcParams.update(tue_axes.spines(left=True, right=False, top=False, bottom=True))\n",
    "plt.rcParams.update(tue_axes.grid())\n",
    "plt.rcParams.update(tue_cycler.cycler(color=tue_palettes.high_contrast))\n",
    "plt.rcParams.update(tue_axes.legend(shadow=False, frameon=False, fancybox=False))\n",
    "plt.rcParams.update(tue_fonts.neurips2021_tex(family=\"sans-serif\"))"
   ]
  },
  {
   "cell_type": "markdown",
   "metadata": {},
   "source": [
    "## Load the data"
   ]
  },
  {
   "cell_type": "code",
   "execution_count": 3,
   "metadata": {},
   "outputs": [],
   "source": [
    "# Define the data and figure folder.\n",
    "data_folder = \"/users/csb/huizing/Documents/PhD/Code/mowgli_reproducibility/data/\"\n",
    "res_folder = \"/users/csb/huizing/Documents/PhD/Code/Mowgli/local_analysis/from_jz/w/\"\n",
    "\n",
    "# Define data paths for different datasets.\n",
    "data_path = {\n",
    "    \"Liu\": data_folder + \"Liu/liu_preprocessed.h5mu.gz\",\n",
    "    \"sim1\": data_folder + \"Liu/liu_simulated_1.h5mu.gz\",\n",
    "    \"sim2\": data_folder + \"Liu/liu_simulated_2.h5mu.gz\",\n",
    "    \"sim3\": data_folder + \"Liu/liu_simulated_3.h5mu.gz\",\n",
    "    \"sim4\": data_folder + \"Liu/liu_simulated_4.h5mu.gz\",\n",
    "    \"sim5\": data_folder + \"Liu/liu_simulated_5.h5mu.gz\",\n",
    "    \"10X PBMC\": data_folder + \"10X_PBMC_10k/pbmc_preprocessed.h5mu.gz\",\n",
    "    \"Open Problems Multiome\": data_folder + \"OP_multiome/opmultiome_preprocessed.h5mu.gz\",\n",
    "    \"Open Problems CITE-seq\": data_folder + \"OPCITE/opcite_preprocessed.h5mu.gz\",\n",
    "    \"Bone Marrow CITE-seq\": data_folder + \"BMCITE/bmcite_preprocessed.h5mu.gz\",\n",
    "}\n",
    "\n",
    "mowgli_path = {\n",
    "    \"Liu\": res_folder + \"liu_mowgli_cosine_5_0_1_rna_0_01_atac_0_1_adt_0_01_0_001.npy\",\n",
    "    \"sim1_mowgli\": res_folder + \"liu_sim_1_mowgli_cosine_5_0_1_rna_0_01_atac_0_1_adt_0_01_0_001.npy\",\n",
    "    \"sim2_mowgli\": res_folder + \"liu_sim_2_mowgli_cosine_5_0_1_rna_0_01_atac_0_1_adt_0_01_0_001.npy\",\n",
    "    \"sim3_mowgli\": res_folder + \"liu_sim_3_mowgli_cosine_5_0_1_rna_0_01_atac_0_1_adt_0_01_0_001.npy\",\n",
    "    \"sim4_mowgli\": res_folder + \"liu_sim_4_mowgli_cosine_5_0_1_rna_0_01_atac_0_1_adt_0_01_0_001.npy\",\n",
    "    \"sim5_mowgli\": res_folder + \"liu_sim_5_mowgli_cosine_5_0_1_rna_0_01_atac_0_1_adt_0_01_0_001.npy\",\n",
    "    \"10X PBMC\": res_folder + \"pbmc_mowgli_cosine_50_0_05_rna_0_01_atac_0_1_adt_0_001_0_001.npy\",\n",
    "    \"Open Problems Multiome\": res_folder + \"opmultiome_mowgli_cosine_50_0_05_rna_0_01_atac_0_1_adt_0_001_0_001.npy\",\n",
    "    \"Open Problems CITE-seq\": res_folder + \"opcite_mowgli_cosine_50_0_05_0_01_0_001.npy\",\n",
    "    \"Bone Marrow CITE-seq\": res_folder + \"bmcite_mowgli_cosine_50_0_05_0_01_0_001.npy\",\n",
    "}\n",
    "\n",
    "mofa_path = {\n",
    "    \"Liu\": data_folder + \"Liu/liu_mofa_5.hdf5\",\n",
    "    \"sim1_mowgli\": data_folder + \"Liu/liu_sim_1_mofa_5.hdf5\",\n",
    "    \"sim2_mowgli\": data_folder + \"Liu/liu_sim_2_mofa_5.hdf5\",\n",
    "    \"sim3_mowgli\": data_folder + \"Liu/liu_sim_3_mofa_5.hdf5\",\n",
    "    \"sim4_mowgli\": data_folder + \"Liu/liu_sim_4_mofa_5.hdf5\",\n",
    "    \"sim5_mowgli\": data_folder + \"Liu/liu_sim_5_mofa_5.hdf5\",\n",
    "    \"10X PBMC\": data_folder + \"10X_PBMC_10k/pbmc_mofa_15.hdf5\",\n",
    "    \"Open Problems Multiome\": data_folder + \"OP_multiome/opmultiome_mofa_15.hdf5\",\n",
    "    \"Open Problems CITE-seq\": data_folder + \"OPCITE/opcite_mofa_15.hdf5\",\n",
    "    \"Bone Marrow CITE-seq\": data_folder + \"BMCITE/bmcite_mofa_15.hdf5\",\n",
    "}\n",
    "\n",
    "nmf_path = {\n",
    "    \"Liu\": data_folder + \"Liu/liu_nmf_5.npy\",\n",
    "    \"sim1_mowgli\": data_folder + \"Liu/liu_sim_1_nmf_5.npy\",\n",
    "    \"sim2_mowgli\": data_folder + \"Liu/liu_sim_2_nmf_5.npy\",\n",
    "    \"sim3_mowgli\": data_folder + \"Liu/liu_sim_3_nmf_5.npy\",\n",
    "    \"sim4_mowgli\": data_folder + \"Liu/liu_sim_4_nmf_5.npy\",\n",
    "    \"sim5_mowgli\": data_folder + \"Liu/liu_sim_5_nmf_5.npy\",\n",
    "    \"10X PBMC\": data_folder + \"10X_PBMC_10k/pbmc_nmf_30.npy\",\n",
    "    \"Open Problems Multiome\": data_folder + \"OP_multiome/opmultiome_nmf_30.npy\",\n",
    "    \"Open Problems CITE-seq\": data_folder + \"OPCITE/opcite_nmf_30.npy\",\n",
    "    \"Bone Marrow CITE-seq\": data_folder + \"BMCITE/bmcite_nmf_30.npy\",\n",
    "}\n",
    "\n",
    "seurat_path = {\n",
    "    \"Liu\": data_folder + \"Liu/liu_seurat_umap.csv\",\n",
    "    \"sim1_mowgli\": data_folder + \"Liu/liu_sim_1_seurat_umap.csv\",\n",
    "    \"sim2_mowgli\": data_folder + \"Liu/liu_sim_2_seurat_umap.csv\",\n",
    "    \"sim3_mowgli\": data_folder + \"Liu/liu_sim_3_seurat_umap.csv\",\n",
    "    \"sim4_mowgli\": data_folder + \"Liu/liu_sim_4_seurat_umap.csv\",\n",
    "    \"sim5_mowgli\": data_folder + \"Liu/liu_sim_5_seurat_umap.csv\",\n",
    "    \"10X PBMC\": data_folder + \"10X_PBMC_10k/pbmc_seurat_umap.csv\",\n",
    "    \"Open Problems Multiome\": data_folder + \"OP_multiome/opmultiome_seurat_umap.csv\",\n",
    "    \"Open Problems CITE-seq\": data_folder + \"OPCITE/opcite_seurat_umap.csv\",\n",
    "    \"Bone Marrow CITE-seq\": data_folder + \"BMCITE/bmcite_seurat_umap.csv\",\n",
    "}"
   ]
  },
  {
   "cell_type": "markdown",
   "metadata": {},
   "source": [
    "## Make the UMAPS"
   ]
  },
  {
   "cell_type": "code",
   "execution_count": 4,
   "metadata": {},
   "outputs": [],
   "source": [
    "# List the datasets.\n",
    "\n",
    "datasets = [\n",
    "    \"Liu\",\n",
    "    \"10X PBMC\",\n",
    "    \"Open Problems Multiome\",\n",
    "    \"Open Problems CITE-seq\",\n",
    "    \"Bone Marrow CITE-seq\",\n",
    "]\n",
    "\n",
    "# Define the subplots.\n",
    "fig = plt.figure(constrained_layout=True, figsize=(10, 10))\n",
    "axes = fig.subplots(5, 4)\n",
    "\n",
    "for i, dataset in enumerate(datasets):\n",
    "\n",
    "    mdata = mu.read_h5mu(data_path[dataset])\n",
    "\n",
    "    for j in range(4):\n",
    "\n",
    "        if j == 0:\n",
    "            X_mowgli = np.load(mowgli_path[dataset], allow_pickle=True).item()[\"W\"]\n",
    "            mdata.obsm[\"X_mowgli\"] = X_mowgli\n",
    "            mdata.uns = {}\n",
    "            sc.pp.neighbors(mdata, use_rep=\"X_mowgli\", n_neighbors=20)\n",
    "            sc.tl.umap(mdata)\n",
    "\n",
    "        elif j == 1:\n",
    "            mofa_object = mofax.mofa_model(mofa_path[dataset])\n",
    "            mdata.obsm[\"X_mofa\"] = mofa_object.get_factors()\n",
    "            mdata.uns = {}\n",
    "            sc.pp.neighbors(mdata, use_rep=\"X_mofa\", n_neighbors=20)\n",
    "            sc.tl.umap(mdata)\n",
    "\n",
    "        elif j == 2:\n",
    "            mdata.obsm[\"X_nmf\"] = np.load(nmf_path[dataset])\n",
    "            mdata.uns = {}\n",
    "            sc.pp.neighbors(mdata, use_rep=\"X_nmf\", n_neighbors=20)\n",
    "            sc.tl.umap(mdata)\n",
    "\n",
    "        elif j == 3:\n",
    "            mdata.obsm[\"X_umap\"] = pd.read_csv(seurat_path[dataset], index_col=0).to_numpy()\n",
    "            mdata.uns = {}\n",
    "\n",
    "        sc.pl.umap(mdata, ax=axes[i, j], color=\"rna:celltype\", s=15, alpha=.8, title=\"\", show=False)\n",
    "\n",
    "        axes[i, j].set_facecolor((0, 0, 0, 0))\n",
    "        axes[i, j].set(xlabel=None)\n",
    "        axes[i, j].get_legend().remove()\n",
    "\n",
    "        if j > 0:\n",
    "            axes[i, j].set(ylabel=None)\n",
    "        else:\n",
    "            axes[i, j].set(ylabel=dataset)\n",
    "\n",
    "axes[0, 0].set_title(\"Mowgli\")\n",
    "axes[0, 1].set_title(\"MOFA+\")\n",
    "axes[0, 2].set_title(\"NMF\")\n",
    "axes[0, 3].set_title(\"Seurat\")\n",
    "\n",
    "plt.show()"
   ]
  }
 ],
 "metadata": {
  "kernelspec": {
   "display_name": "Python 3.8.5 ('base')",
   "language": "python",
   "name": "python3"
  },
  "language_info": {
   "codemirror_mode": {
    "name": "ipython",
    "version": 3
   },
   "file_extension": ".py",
   "mimetype": "text/x-python",
   "name": "python",
   "nbconvert_exporter": "python",
   "pygments_lexer": "ipython3",
   "version": "3.8.5"
  },
  "orig_nbformat": 4,
  "vscode": {
   "interpreter": {
    "hash": "8ba723ea251c3bb47b49f140ac541c116def08dcde9f0d62bfab2e65e5e12241"
   }
  }
 },
 "nbformat": 4,
 "nbformat_minor": 2
}
