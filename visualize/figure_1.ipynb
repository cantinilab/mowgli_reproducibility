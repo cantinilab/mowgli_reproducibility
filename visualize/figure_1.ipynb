{
 "cells": [
  {
   "cell_type": "markdown",
   "metadata": {},
   "source": [
    "## Imports"
   ]
  },
  {
   "cell_type": "code",
   "execution_count": 259,
   "metadata": {},
   "outputs": [],
   "source": [
    "# Imports\n",
    "import matplotlib.pyplot as plt\n",
    "import numpy as np\n",
    "import pickle\n",
    "import seaborn as sns\n",
    "import os\n",
    "import pandas as pd\n"
   ]
  },
  {
   "cell_type": "code",
   "execution_count": 260,
   "metadata": {},
   "outputs": [],
   "source": [
    "# Plots configuration.\n",
    "\n",
    "from tueplots import axes as tue_axes\n",
    "from tueplots import cycler as tue_cycler\n",
    "from tueplots.constants import markers as tue_markers\n",
    "from tueplots.constants.color import palettes as tue_palettes\n",
    "\n",
    "plt.rcParams.update({\"figure.dpi\": 80})\n",
    "plt.rcParams.update(tue_axes.spines(left=True, right=False, top=False, bottom=True))\n",
    "plt.rcParams.update(tue_axes.grid())\n",
    "plt.rcParams.update(tue_cycler.cycler(color=tue_palettes.high_contrast))\n"
   ]
  },
  {
   "cell_type": "markdown",
   "metadata": {},
   "source": [
    "## Load the data"
   ]
  },
  {
   "cell_type": "code",
   "execution_count": 261,
   "metadata": {},
   "outputs": [],
   "source": [
    "# Define the path where to save the results.\n",
    "res_path = os.path.join(\n",
    "    \"/users/csb/huizing/Documents/PhD/Code/\",\n",
    "    \"mowgli_reproducibility/data/10X_PBMC_10k/scores_mofa.pkl\",\n",
    ")\n",
    "\n",
    "# Load the results from the pickle file.\n",
    "with open(res_path, \"rb\") as f:\n",
    "    scores_dict = pickle.load(f)"
   ]
  },
  {
   "cell_type": "code",
   "execution_count": 262,
   "metadata": {},
   "outputs": [],
   "source": [
    "# Turn the scores into a dataframe.\n",
    "scores_df = pd.DataFrame(scores_dict).T"
   ]
  },
  {
   "cell_type": "code",
   "execution_count": 263,
   "metadata": {},
   "outputs": [
    {
     "data": {
      "text/html": [
       "<div>\n",
       "<style scoped>\n",
       "    .dataframe tbody tr th:only-of-type {\n",
       "        vertical-align: middle;\n",
       "    }\n",
       "\n",
       "    .dataframe tbody tr th {\n",
       "        vertical-align: top;\n",
       "    }\n",
       "\n",
       "    .dataframe thead th {\n",
       "        text-align: right;\n",
       "    }\n",
       "</style>\n",
       "<table border=\"1\" class=\"dataframe\">\n",
       "  <thead>\n",
       "    <tr style=\"text-align: right;\">\n",
       "      <th></th>\n",
       "      <th>Silhouette score</th>\n",
       "      <th>Purity scores</th>\n",
       "      <th>k range</th>\n",
       "      <th>ARIs</th>\n",
       "      <th>res_range</th>\n",
       "      <th>ARIs after denoising</th>\n",
       "    </tr>\n",
       "  </thead>\n",
       "  <tbody>\n",
       "    <tr>\n",
       "      <th>pbmc_mofa_15</th>\n",
       "      <td>0.358907</td>\n",
       "      <td>[0.9225321888412559, 0.9212982832618382, 0.921...</td>\n",
       "      <td>[1, 2, 3, 4, 5, 6, 7, 8, 9, 10, 11, 12, 13, 14...</td>\n",
       "      <td>[0.7347246442560976, 0.7871058117845379, 0.768...</td>\n",
       "      <td>[0.1, 0.2, 0.30000000000000004, 0.4, 0.5, 0.6,...</td>\n",
       "      <td>[0.7857166404920114, 0.7801271017987409, 0.704...</td>\n",
       "    </tr>\n",
       "    <tr>\n",
       "      <th>pbmc_mofa_30</th>\n",
       "      <td>0.305522</td>\n",
       "      <td>[0.9241416309013418, 0.9208154506438104, 0.919...</td>\n",
       "      <td>[1, 2, 3, 4, 5, 6, 7, 8, 9, 10, 11, 12, 13, 14...</td>\n",
       "      <td>[0.6296626250407192, 0.7937682452217845, 0.743...</td>\n",
       "      <td>[0.1, 0.2, 0.30000000000000004, 0.4, 0.5, 0.6,...</td>\n",
       "      <td>[0.6752499081826121, 0.7898834081858246, 0.747...</td>\n",
       "    </tr>\n",
       "    <tr>\n",
       "      <th>pbmc_mofa_50</th>\n",
       "      <td>0.298408</td>\n",
       "      <td>[0.921030042918509, 0.9203862660944547, 0.9195...</td>\n",
       "      <td>[1, 2, 3, 4, 5, 6, 7, 8, 9, 10, 11, 12, 13, 14...</td>\n",
       "      <td>[0.6562768696943939, 0.7795193974390501, 0.801...</td>\n",
       "      <td>[0.1, 0.2, 0.30000000000000004, 0.4, 0.5, 0.6,...</td>\n",
       "      <td>[0.6735824555769804, 0.797807001921298, 0.7579...</td>\n",
       "    </tr>\n",
       "  </tbody>\n",
       "</table>\n",
       "</div>"
      ],
      "text/plain": [
       "             Silhouette score  \\\n",
       "pbmc_mofa_15         0.358907   \n",
       "pbmc_mofa_30         0.305522   \n",
       "pbmc_mofa_50         0.298408   \n",
       "\n",
       "                                                  Purity scores  \\\n",
       "pbmc_mofa_15  [0.9225321888412559, 0.9212982832618382, 0.921...   \n",
       "pbmc_mofa_30  [0.9241416309013418, 0.9208154506438104, 0.919...   \n",
       "pbmc_mofa_50  [0.921030042918509, 0.9203862660944547, 0.9195...   \n",
       "\n",
       "                                                        k range  \\\n",
       "pbmc_mofa_15  [1, 2, 3, 4, 5, 6, 7, 8, 9, 10, 11, 12, 13, 14...   \n",
       "pbmc_mofa_30  [1, 2, 3, 4, 5, 6, 7, 8, 9, 10, 11, 12, 13, 14...   \n",
       "pbmc_mofa_50  [1, 2, 3, 4, 5, 6, 7, 8, 9, 10, 11, 12, 13, 14...   \n",
       "\n",
       "                                                           ARIs  \\\n",
       "pbmc_mofa_15  [0.7347246442560976, 0.7871058117845379, 0.768...   \n",
       "pbmc_mofa_30  [0.6296626250407192, 0.7937682452217845, 0.743...   \n",
       "pbmc_mofa_50  [0.6562768696943939, 0.7795193974390501, 0.801...   \n",
       "\n",
       "                                                      res_range  \\\n",
       "pbmc_mofa_15  [0.1, 0.2, 0.30000000000000004, 0.4, 0.5, 0.6,...   \n",
       "pbmc_mofa_30  [0.1, 0.2, 0.30000000000000004, 0.4, 0.5, 0.6,...   \n",
       "pbmc_mofa_50  [0.1, 0.2, 0.30000000000000004, 0.4, 0.5, 0.6,...   \n",
       "\n",
       "                                           ARIs after denoising  \n",
       "pbmc_mofa_15  [0.7857166404920114, 0.7801271017987409, 0.704...  \n",
       "pbmc_mofa_30  [0.6752499081826121, 0.7898834081858246, 0.747...  \n",
       "pbmc_mofa_50  [0.6735824555769804, 0.797807001921298, 0.7579...  "
      ]
     },
     "execution_count": 263,
     "metadata": {},
     "output_type": "execute_result"
    }
   ],
   "source": [
    "# Print the head of the dataframe.\n",
    "scores_df.head()"
   ]
  },
  {
   "cell_type": "code",
   "execution_count": 264,
   "metadata": {},
   "outputs": [],
   "source": [
    "# Add some columns.\n",
    "scores_df[\"Dataset\"] = \"10X PBMC\"\n",
    "scores_df[\"Method\"] = \"MOFA+\"\n",
    "scores_df[\"Latent dimension\"] = [15, 30, 50]"
   ]
  },
  {
   "cell_type": "markdown",
   "metadata": {},
   "source": [
    "## Supplementary figure 1 -- MOFA depending on latent dimension"
   ]
  },
  {
   "cell_type": "code",
   "execution_count": 265,
   "metadata": {},
   "outputs": [],
   "source": [
    "# Make a new dataframe with individual ARI scores for each resolution.\n",
    "\n",
    "ari_res = []  # Initialize the list that will be turned into a dataframe.\n",
    "\n",
    "# Iterate over experiments.\n",
    "for xp_name in scores_df.index:\n",
    "\n",
    "    # Iterate over resolutions.\n",
    "    for i, res in enumerate(scores_df.loc[xp_name, \"res_range\"]):\n",
    "\n",
    "        # Add the ARI to the list.\n",
    "        ari_res.append(\n",
    "            {\n",
    "                \"xp_name\": xp_name,\n",
    "                \"Dataset\": scores_df.loc[xp_name, \"Dataset\"],\n",
    "                \"Latent dimension\": str(scores_df.loc[xp_name, \"Latent dimension\"]),\n",
    "                \"Resolution\": res,\n",
    "                \"ARI\": scores_df.loc[xp_name, \"ARIs\"][i],\n",
    "                \"ARI jaccard\": scores_df.loc[xp_name, \"ARIs after denoising\"][i],\n",
    "            }\n",
    "        )\n",
    "\n",
    "# Turn the list into a dataframe.\n",
    "ari_res = pd.DataFrame(ari_res)\n"
   ]
  },
  {
   "cell_type": "code",
   "execution_count": 266,
   "metadata": {},
   "outputs": [],
   "source": [
    "# Make a new dataframe with individual purity scores depending on k.\n",
    "\n",
    "purity_res = [] # Initialize the list that will be turned into a dataframe.\n",
    "\n",
    "# Iterate over experiments.\n",
    "for xp_name in scores_df.index:\n",
    "\n",
    "    # Iterate over k nearest neighbours.\n",
    "    for i, k in enumerate(scores_df.loc[xp_name, \"k range\"]):\n",
    "\n",
    "        # Add the purity score to the list.\n",
    "        purity_res.append({\n",
    "            \"xp_name\": xp_name,\n",
    "            \"Dataset\": scores_df.loc[xp_name, \"Dataset\"],\n",
    "            \"Latent dimension\": str(scores_df.loc[xp_name, \"Latent dimension\"]),\n",
    "            \"k\": k,\n",
    "            \"Purity score\": scores_df.loc[xp_name, \"Purity scores\"][i]\n",
    "        })\n",
    "\n",
    "# Turn the list into a dataframe.\n",
    "purity_res = pd.DataFrame(purity_res)"
   ]
  },
  {
   "cell_type": "code",
   "execution_count": 267,
   "metadata": {},
   "outputs": [
    {
     "data": {
      "image/png": "[encoded data removed]",
      "text/plain": [
       "<Figure size 800x400 with 7 Axes>"
      ]
     },
     "metadata": {
      "needs_background": "light"
     },
     "output_type": "display_data"
    }
   ],
   "source": [
    "# Define the subplots.\n",
    "fig = plt.figure(constrained_layout=True, figsize=(10, 5))\n",
    "axes = fig.subplot_mosaic(\n",
    "    \"\"\"\n",
    "    ABC\n",
    "    ADE\n",
    "    AFG\n",
    "    \"\"\"\n",
    ")\n",
    "\n",
    "# Visualize the silhouette score as a bar plot.\n",
    "sns.barplot(\n",
    "    data=scores_df,\n",
    "    y=\"Dataset\",\n",
    "    x=\"Silhouette score\",\n",
    "    hue=\"Latent dimension\",\n",
    "    ax=axes[\"A\"],\n",
    ")\n",
    "\n",
    "# Visualize the ARI as a line plot.\n",
    "sns.lineplot(\n",
    "    data=ari_res, x=\"Resolution\", y=\"ARI\", hue=\"Latent dimension\", ax=axes[\"B\"]\n",
    ")\n",
    "axes[\"B\"].set_xticklabels([])\n",
    "axes[\"B\"].get_legend().remove()\n",
    "\n",
    "# Visualize the purity score as a line plot.\n",
    "sns.lineplot(\n",
    "    data=purity_res, x=\"k\", y=\"Purity score\", hue=\"Latent dimension\", ax=axes[\"C\"]\n",
    ")\n",
    "axes[\"C\"].set_xticklabels([])\n",
    "axes[\"C\"].get_legend().remove()\n",
    "\n",
    "axes[\"B\"].grid()\n",
    "axes[\"C\"].grid()\n",
    "axes[\"D\"].grid()\n",
    "axes[\"E\"].grid()\n",
    "axes[\"F\"].grid()\n",
    "axes[\"G\"].grid()"
   ]
  },
  {
   "cell_type": "markdown",
   "metadata": {},
   "source": [
    "## Figure 1 -- All methods"
   ]
  },
  {
   "cell_type": "code",
   "execution_count": 268,
   "metadata": {},
   "outputs": [],
   "source": [
    "# Subset scores_df to only include latent dimension 30.\n",
    "scores_df = scores_df.loc[scores_df[\"Latent dimension\"] == 30]"
   ]
  },
  {
   "cell_type": "code",
   "execution_count": 269,
   "metadata": {},
   "outputs": [],
   "source": [
    "# Make a new dataframe with individual ARI scores for each resolution.\n",
    "\n",
    "ari_res = []  # Initialize the list that will be turned into a dataframe.\n",
    "\n",
    "# Iterate over experiments.\n",
    "for xp_name in scores_df.index:\n",
    "\n",
    "    # Iterate over resolutions.\n",
    "    for i, res in enumerate(scores_df.loc[xp_name, \"res_range\"]):\n",
    "\n",
    "        # Add the ARI to the list.\n",
    "        ari_res.append(\n",
    "            {\n",
    "                \"xp_name\": xp_name,\n",
    "                \"Dataset\": scores_df.loc[xp_name, \"Dataset\"],\n",
    "                \"Method\": scores_df.loc[xp_name, \"Method\"],\n",
    "                \"Latent dimension\": str(scores_df.loc[xp_name, \"Latent dimension\"]),\n",
    "                \"Resolution\": res,\n",
    "                \"ARI\": scores_df.loc[xp_name, \"ARIs\"][i],\n",
    "                \"ARI jaccard\": scores_df.loc[xp_name, \"ARIs after denoising\"][i],\n",
    "            }\n",
    "        )\n",
    "\n",
    "# Turn the list into a dataframe.\n",
    "ari_res = pd.DataFrame(ari_res)\n"
   ]
  },
  {
   "cell_type": "code",
   "execution_count": 270,
   "metadata": {},
   "outputs": [],
   "source": [
    "# Make a new dataframe with individual purity scores depending on k.\n",
    "\n",
    "purity_res = [] # Initialize the list that will be turned into a dataframe.\n",
    "\n",
    "# Iterate over experiments.\n",
    "for xp_name in scores_df.index:\n",
    "\n",
    "    # Iterate over k nearest neighbours.\n",
    "    for i, k in enumerate(scores_df.loc[xp_name, \"k range\"]):\n",
    "\n",
    "        # Add the purity score to the list.\n",
    "        purity_res.append({\n",
    "            \"xp_name\": xp_name,\n",
    "            \"Dataset\": scores_df.loc[xp_name, \"Dataset\"],\n",
    "            \"Method\": scores_df.loc[xp_name, \"Method\"],\n",
    "            \"Latent dimension\": str(scores_df.loc[xp_name, \"Latent dimension\"]),\n",
    "            \"k\": k,\n",
    "            \"Purity score\": scores_df.loc[xp_name, \"Purity scores\"][i]\n",
    "        })\n",
    "\n",
    "# Turn the list into a dataframe.\n",
    "purity_res = pd.DataFrame(purity_res)"
   ]
  },
  {
   "cell_type": "code",
   "execution_count": 271,
   "metadata": {},
   "outputs": [
    {
     "data": {
      "image/png": "[encoded data removed]",
      "text/plain": [
       "<Figure size 800x400 with 7 Axes>"
      ]
     },
     "metadata": {
      "needs_background": "light"
     },
     "output_type": "display_data"
    }
   ],
   "source": [
    "# Define the subplots.\n",
    "fig = plt.figure(constrained_layout=True, figsize=(10, 5))\n",
    "axes = fig.subplot_mosaic(\n",
    "    \"\"\"\n",
    "    ABC\n",
    "    ADE\n",
    "    AFG\n",
    "    \"\"\"\n",
    ")\n",
    "\n",
    "# Visualize the silhouette score as a bar plot.\n",
    "sns.barplot(\n",
    "    data=scores_df,\n",
    "    y=\"Dataset\",\n",
    "    x=\"Silhouette score\",\n",
    "    hue=\"Method\",\n",
    "    ax=axes[\"A\"],\n",
    ")\n",
    "\n",
    "# Visualize the ARI as a line plot.\n",
    "sns.lineplot(\n",
    "    data=ari_res, x=\"Resolution\", y=\"ARI\", hue=\"Method\", ax=axes[\"B\"]\n",
    ")\n",
    "axes[\"B\"].set_xticklabels([])\n",
    "axes[\"B\"].get_legend().remove()\n",
    "\n",
    "# Visualize the purity score as a line plot.\n",
    "sns.lineplot(\n",
    "    data=purity_res, x=\"k\", y=\"Purity score\", hue=\"Method\", ax=axes[\"C\"]\n",
    ")\n",
    "axes[\"C\"].set_xticklabels([])\n",
    "axes[\"C\"].get_legend().remove()\n",
    "\n",
    "axes[\"B\"].grid()\n",
    "axes[\"C\"].grid()\n",
    "axes[\"D\"].grid()\n",
    "axes[\"E\"].grid()\n",
    "axes[\"F\"].grid()\n",
    "axes[\"G\"].grid()"
   ]
  },
  {
   "cell_type": "code",
   "execution_count": null,
   "metadata": {},
   "outputs": [],
   "source": []
  }
 ],
 "metadata": {
  "kernelspec": {
   "display_name": "Python 3.8.5 ('base')",
   "language": "python",
   "name": "python3"
  },
  "language_info": {
   "codemirror_mode": {
    "name": "ipython",
    "version": 3
   },
   "file_extension": ".py",
   "mimetype": "text/x-python",
   "name": "python",
   "nbconvert_exporter": "python",
   "pygments_lexer": "ipython3",
   "version": "3.8.5"
  },
  "orig_nbformat": 4,
  "vscode": {
   "interpreter": {
    "hash": "8ba723ea251c3bb47b49f140ac541c116def08dcde9f0d62bfab2e65e5e12241"
   }
  }
 },
 "nbformat": 4,
 "nbformat_minor": 2
}
