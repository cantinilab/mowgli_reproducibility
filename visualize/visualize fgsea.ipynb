{
 "cells": [
  {
   "cell_type": "code",
   "execution_count": 7,
   "metadata": {},
   "outputs": [],
   "source": [
    "import pandas as pd\n",
    "import numpy as np\n",
    "import matplotlib.pyplot as plt\n",
    "import seaborn as sns"
   ]
  },
  {
   "cell_type": "code",
   "execution_count": 8,
   "metadata": {},
   "outputs": [],
   "source": [
    "enr = pd.read_csv(\"/users/csb/huizing/Documents/PhD/Code/mowgli_reproducibility/enrich/fgsea.csv\", index_col=0)"
   ]
  },
  {
   "cell_type": "code",
   "execution_count": 9,
   "metadata": {},
   "outputs": [
    {
     "data": {
      "text/html": [
       "<div>\n",
       "<style scoped>\n",
       "    .dataframe tbody tr th:only-of-type {\n",
       "        vertical-align: middle;\n",
       "    }\n",
       "\n",
       "    .dataframe tbody tr th {\n",
       "        vertical-align: top;\n",
       "    }\n",
       "\n",
       "    .dataframe thead th {\n",
       "        text-align: right;\n",
       "    }\n",
       "</style>\n",
       "<table border=\"1\" class=\"dataframe\">\n",
       "  <thead>\n",
       "    <tr style=\"text-align: right;\">\n",
       "      <th></th>\n",
       "      <th>pathway</th>\n",
       "      <th>pval</th>\n",
       "      <th>padj</th>\n",
       "      <th>ES</th>\n",
       "      <th>NES</th>\n",
       "      <th>nMoreExtreme</th>\n",
       "      <th>size</th>\n",
       "      <th>col</th>\n",
       "      <th>method</th>\n",
       "    </tr>\n",
       "  </thead>\n",
       "  <tbody>\n",
       "    <tr>\n",
       "      <th>1</th>\n",
       "      <td>actin filament organization (GO:0007015)</td>\n",
       "      <td>0.650071</td>\n",
       "      <td>0.972028</td>\n",
       "      <td>0.624388</td>\n",
       "      <td>0.937543</td>\n",
       "      <td>456</td>\n",
       "      <td>21</td>\n",
       "      <td>X0</td>\n",
       "      <td>mofa</td>\n",
       "    </tr>\n",
       "    <tr>\n",
       "      <th>2</th>\n",
       "      <td>activation of cysteine-type endopeptidase acti...</td>\n",
       "      <td>0.217143</td>\n",
       "      <td>0.972028</td>\n",
       "      <td>0.806654</td>\n",
       "      <td>1.185045</td>\n",
       "      <td>151</td>\n",
       "      <td>17</td>\n",
       "      <td>X0</td>\n",
       "      <td>mofa</td>\n",
       "    </tr>\n",
       "    <tr>\n",
       "      <th>3</th>\n",
       "      <td>activation of GTPase activity (GO:0090630)</td>\n",
       "      <td>0.048571</td>\n",
       "      <td>0.958442</td>\n",
       "      <td>0.877363</td>\n",
       "      <td>1.300501</td>\n",
       "      <td>33</td>\n",
       "      <td>19</td>\n",
       "      <td>X0</td>\n",
       "      <td>mofa</td>\n",
       "    </tr>\n",
       "    <tr>\n",
       "      <th>4</th>\n",
       "      <td>activation of protein kinase activity (GO:0032...</td>\n",
       "      <td>0.605960</td>\n",
       "      <td>0.972028</td>\n",
       "      <td>-0.528925</td>\n",
       "      <td>-0.885482</td>\n",
       "      <td>182</td>\n",
       "      <td>19</td>\n",
       "      <td>X0</td>\n",
       "      <td>mofa</td>\n",
       "    </tr>\n",
       "    <tr>\n",
       "      <th>5</th>\n",
       "      <td>adenylate cyclase-activating G protein-coupled...</td>\n",
       "      <td>0.309353</td>\n",
       "      <td>0.972028</td>\n",
       "      <td>-0.633064</td>\n",
       "      <td>-1.119863</td>\n",
       "      <td>85</td>\n",
       "      <td>24</td>\n",
       "      <td>X0</td>\n",
       "      <td>mofa</td>\n",
       "    </tr>\n",
       "    <tr>\n",
       "      <th>...</th>\n",
       "      <td>...</td>\n",
       "      <td>...</td>\n",
       "      <td>...</td>\n",
       "      <td>...</td>\n",
       "      <td>...</td>\n",
       "      <td>...</td>\n",
       "      <td>...</td>\n",
       "      <td>...</td>\n",
       "      <td>...</td>\n",
       "    </tr>\n",
       "    <tr>\n",
       "      <th>19886</th>\n",
       "      <td>transcription, DNA-templated (GO:0006351)</td>\n",
       "      <td>0.709291</td>\n",
       "      <td>0.769656</td>\n",
       "      <td>0.853618</td>\n",
       "      <td>0.986764</td>\n",
       "      <td>709</td>\n",
       "      <td>19</td>\n",
       "      <td>X49</td>\n",
       "      <td>mowgli</td>\n",
       "    </tr>\n",
       "    <tr>\n",
       "      <th>19887</th>\n",
       "      <td>transforming growth factor beta receptor signa...</td>\n",
       "      <td>0.356643</td>\n",
       "      <td>0.591106</td>\n",
       "      <td>0.911822</td>\n",
       "      <td>1.055384</td>\n",
       "      <td>356</td>\n",
       "      <td>18</td>\n",
       "      <td>X49</td>\n",
       "      <td>mowgli</td>\n",
       "    </tr>\n",
       "    <tr>\n",
       "      <th>19888</th>\n",
       "      <td>transmembrane receptor protein serine/threonin...</td>\n",
       "      <td>0.328671</td>\n",
       "      <td>0.591106</td>\n",
       "      <td>0.911491</td>\n",
       "      <td>1.046245</td>\n",
       "      <td>328</td>\n",
       "      <td>23</td>\n",
       "      <td>X49</td>\n",
       "      <td>mowgli</td>\n",
       "    </tr>\n",
       "    <tr>\n",
       "      <th>19889</th>\n",
       "      <td>transmembrane receptor protein tyrosine kinase...</td>\n",
       "      <td>0.048951</td>\n",
       "      <td>0.591106</td>\n",
       "      <td>0.922739</td>\n",
       "      <td>1.049963</td>\n",
       "      <td>48</td>\n",
       "      <td>67</td>\n",
       "      <td>X49</td>\n",
       "      <td>mowgli</td>\n",
       "    </tr>\n",
       "    <tr>\n",
       "      <th>19890</th>\n",
       "      <td>ubiquitin-dependent protein catabolic process ...</td>\n",
       "      <td>0.248751</td>\n",
       "      <td>0.591106</td>\n",
       "      <td>0.916522</td>\n",
       "      <td>1.042646</td>\n",
       "      <td>248</td>\n",
       "      <td>29</td>\n",
       "      <td>X49</td>\n",
       "      <td>mowgli</td>\n",
       "    </tr>\n",
       "  </tbody>\n",
       "</table>\n",
       "<p>19890 rows × 9 columns</p>\n",
       "</div>"
      ],
      "text/plain": [
       "                                                 pathway      pval      padj  \\\n",
       "1               actin filament organization (GO:0007015)  0.650071  0.972028   \n",
       "2      activation of cysteine-type endopeptidase acti...  0.217143  0.972028   \n",
       "3             activation of GTPase activity (GO:0090630)  0.048571  0.958442   \n",
       "4      activation of protein kinase activity (GO:0032...  0.605960  0.972028   \n",
       "5      adenylate cyclase-activating G protein-coupled...  0.309353  0.972028   \n",
       "...                                                  ...       ...       ...   \n",
       "19886          transcription, DNA-templated (GO:0006351)  0.709291  0.769656   \n",
       "19887  transforming growth factor beta receptor signa...  0.356643  0.591106   \n",
       "19888  transmembrane receptor protein serine/threonin...  0.328671  0.591106   \n",
       "19889  transmembrane receptor protein tyrosine kinase...  0.048951  0.591106   \n",
       "19890  ubiquitin-dependent protein catabolic process ...  0.248751  0.591106   \n",
       "\n",
       "             ES       NES  nMoreExtreme  size  col  method  \n",
       "1      0.624388  0.937543           456    21   X0    mofa  \n",
       "2      0.806654  1.185045           151    17   X0    mofa  \n",
       "3      0.877363  1.300501            33    19   X0    mofa  \n",
       "4     -0.528925 -0.885482           182    19   X0    mofa  \n",
       "5     -0.633064 -1.119863            85    24   X0    mofa  \n",
       "...         ...       ...           ...   ...  ...     ...  \n",
       "19886  0.853618  0.986764           709    19  X49  mowgli  \n",
       "19887  0.911822  1.055384           356    18  X49  mowgli  \n",
       "19888  0.911491  1.046245           328    23  X49  mowgli  \n",
       "19889  0.922739  1.049963            48    67  X49  mowgli  \n",
       "19890  0.916522  1.042646           248    29  X49  mowgli  \n",
       "\n",
       "[19890 rows x 9 columns]"
      ]
     },
     "execution_count": 9,
     "metadata": {},
     "output_type": "execute_result"
    }
   ],
   "source": [
    "enr"
   ]
  },
  {
   "cell_type": "code",
   "execution_count": 12,
   "metadata": {},
   "outputs": [
    {
     "data": {
      "text/html": [
       "<div>\n",
       "<style scoped>\n",
       "    .dataframe tbody tr th:only-of-type {\n",
       "        vertical-align: middle;\n",
       "    }\n",
       "\n",
       "    .dataframe tbody tr th {\n",
       "        vertical-align: top;\n",
       "    }\n",
       "\n",
       "    .dataframe thead th {\n",
       "        text-align: right;\n",
       "    }\n",
       "</style>\n",
       "<table border=\"1\" class=\"dataframe\">\n",
       "  <thead>\n",
       "    <tr style=\"text-align: right;\">\n",
       "      <th></th>\n",
       "      <th>pathway</th>\n",
       "      <th>pval</th>\n",
       "      <th>padj</th>\n",
       "      <th>ES</th>\n",
       "      <th>NES</th>\n",
       "      <th>nMoreExtreme</th>\n",
       "      <th>size</th>\n",
       "      <th>col</th>\n",
       "      <th>method</th>\n",
       "    </tr>\n",
       "  </thead>\n",
       "  <tbody>\n",
       "  </tbody>\n",
       "</table>\n",
       "</div>"
      ],
      "text/plain": [
       "Empty DataFrame\n",
       "Columns: [pathway, pval, padj, ES, NES, nMoreExtreme, size, col, method]\n",
       "Index: []"
      ]
     },
     "execution_count": 12,
     "metadata": {},
     "output_type": "execute_result"
    }
   ],
   "source": [
    "# Aie Aie\n",
    "enr[enr[\"padj\"] < .05]"
   ]
  },
  {
   "cell_type": "code",
   "execution_count": 13,
   "metadata": {},
   "outputs": [],
   "source": [
    "enr = enr[enr[\"pval\"] < .05]"
   ]
  },
  {
   "cell_type": "code",
   "execution_count": 14,
   "metadata": {},
   "outputs": [
    {
     "name": "stderr",
     "output_type": "stream",
     "text": [
      "<ipython-input-14-ea61b6049753>:1: SettingWithCopyWarning: \n",
      "A value is trying to be set on a copy of a slice from a DataFrame.\n",
      "Try using .loc[row_indexer,col_indexer] = value instead\n",
      "\n",
      "See the caveats in the documentation: https://pandas.pydata.org/pandas-docs/stable/user_guide/indexing.html#returning-a-view-versus-a-copy\n",
      "  enr[\"minlogp\"] = -np.log10(enr[\"pval\"])\n"
     ]
    }
   ],
   "source": [
    "enr[\"minlogp\"] = -np.log10(enr[\"pval\"])"
   ]
  },
  {
   "cell_type": "code",
   "execution_count": 15,
   "metadata": {},
   "outputs": [
    {
     "data": {
      "text/html": [
       "<div>\n",
       "<style scoped>\n",
       "    .dataframe tbody tr th:only-of-type {\n",
       "        vertical-align: middle;\n",
       "    }\n",
       "\n",
       "    .dataframe tbody tr th {\n",
       "        vertical-align: top;\n",
       "    }\n",
       "\n",
       "    .dataframe thead th {\n",
       "        text-align: right;\n",
       "    }\n",
       "</style>\n",
       "<table border=\"1\" class=\"dataframe\">\n",
       "  <thead>\n",
       "    <tr style=\"text-align: right;\">\n",
       "      <th></th>\n",
       "      <th>pathway</th>\n",
       "      <th>pval</th>\n",
       "      <th>padj</th>\n",
       "      <th>ES</th>\n",
       "      <th>NES</th>\n",
       "      <th>nMoreExtreme</th>\n",
       "      <th>size</th>\n",
       "      <th>col</th>\n",
       "      <th>method</th>\n",
       "      <th>minlogp</th>\n",
       "    </tr>\n",
       "  </thead>\n",
       "  <tbody>\n",
       "    <tr>\n",
       "      <th>3</th>\n",
       "      <td>activation of GTPase activity (GO:0090630)</td>\n",
       "      <td>0.048571</td>\n",
       "      <td>0.958442</td>\n",
       "      <td>0.877363</td>\n",
       "      <td>1.300501</td>\n",
       "      <td>33</td>\n",
       "      <td>19</td>\n",
       "      <td>X0</td>\n",
       "      <td>mofa</td>\n",
       "      <td>1.313619</td>\n",
       "    </tr>\n",
       "    <tr>\n",
       "      <th>7</th>\n",
       "      <td>anterograde trans-synaptic signaling (GO:0098916)</td>\n",
       "      <td>0.040650</td>\n",
       "      <td>0.958442</td>\n",
       "      <td>-0.812714</td>\n",
       "      <td>-1.444751</td>\n",
       "      <td>9</td>\n",
       "      <td>27</td>\n",
       "      <td>X0</td>\n",
       "      <td>mofa</td>\n",
       "      <td>1.390935</td>\n",
       "    </tr>\n",
       "    <tr>\n",
       "      <th>12</th>\n",
       "      <td>B cell activation (GO:0042113)</td>\n",
       "      <td>0.035920</td>\n",
       "      <td>0.958442</td>\n",
       "      <td>0.901434</td>\n",
       "      <td>1.317028</td>\n",
       "      <td>24</td>\n",
       "      <td>16</td>\n",
       "      <td>X0</td>\n",
       "      <td>mofa</td>\n",
       "      <td>1.444669</td>\n",
       "    </tr>\n",
       "    <tr>\n",
       "      <th>35</th>\n",
       "      <td>cellular response to interferon-gamma (GO:0071...</td>\n",
       "      <td>0.006720</td>\n",
       "      <td>0.958442</td>\n",
       "      <td>0.911585</td>\n",
       "      <td>1.404908</td>\n",
       "      <td>4</td>\n",
       "      <td>25</td>\n",
       "      <td>X0</td>\n",
       "      <td>mofa</td>\n",
       "      <td>2.172603</td>\n",
       "    </tr>\n",
       "    <tr>\n",
       "      <th>52</th>\n",
       "      <td>collagen fibril organization (GO:0030199)</td>\n",
       "      <td>0.036984</td>\n",
       "      <td>0.958442</td>\n",
       "      <td>0.877224</td>\n",
       "      <td>1.317185</td>\n",
       "      <td>25</td>\n",
       "      <td>21</td>\n",
       "      <td>X0</td>\n",
       "      <td>mofa</td>\n",
       "      <td>1.431982</td>\n",
       "    </tr>\n",
       "  </tbody>\n",
       "</table>\n",
       "</div>"
      ],
      "text/plain": [
       "                                              pathway      pval      padj  \\\n",
       "3          activation of GTPase activity (GO:0090630)  0.048571  0.958442   \n",
       "7   anterograde trans-synaptic signaling (GO:0098916)  0.040650  0.958442   \n",
       "12                     B cell activation (GO:0042113)  0.035920  0.958442   \n",
       "35  cellular response to interferon-gamma (GO:0071...  0.006720  0.958442   \n",
       "52          collagen fibril organization (GO:0030199)  0.036984  0.958442   \n",
       "\n",
       "          ES       NES  nMoreExtreme  size col method   minlogp  \n",
       "3   0.877363  1.300501            33    19  X0   mofa  1.313619  \n",
       "7  -0.812714 -1.444751             9    27  X0   mofa  1.390935  \n",
       "12  0.901434  1.317028            24    16  X0   mofa  1.444669  \n",
       "35  0.911585  1.404908             4    25  X0   mofa  2.172603  \n",
       "52  0.877224  1.317185            25    21  X0   mofa  1.431982  "
      ]
     },
     "execution_count": 15,
     "metadata": {},
     "output_type": "execute_result"
    }
   ],
   "source": [
    "enr.head()"
   ]
  },
  {
   "cell_type": "markdown",
   "metadata": {},
   "source": [
    "## Count enrichments"
   ]
  },
  {
   "cell_type": "code",
   "execution_count": 16,
   "metadata": {},
   "outputs": [
    {
     "data": {
      "text/html": [
       "<div>\n",
       "<style scoped>\n",
       "    .dataframe tbody tr th:only-of-type {\n",
       "        vertical-align: middle;\n",
       "    }\n",
       "\n",
       "    .dataframe tbody tr th {\n",
       "        vertical-align: top;\n",
       "    }\n",
       "\n",
       "    .dataframe thead th {\n",
       "        text-align: right;\n",
       "    }\n",
       "</style>\n",
       "<table border=\"1\" class=\"dataframe\">\n",
       "  <thead>\n",
       "    <tr style=\"text-align: right;\">\n",
       "      <th></th>\n",
       "      <th>method</th>\n",
       "      <th>pathway</th>\n",
       "      <th>pval</th>\n",
       "      <th>padj</th>\n",
       "      <th>ES</th>\n",
       "      <th>NES</th>\n",
       "      <th>nMoreExtreme</th>\n",
       "      <th>size</th>\n",
       "      <th>col</th>\n",
       "      <th>minlogp</th>\n",
       "    </tr>\n",
       "  </thead>\n",
       "  <tbody>\n",
       "    <tr>\n",
       "      <th>0</th>\n",
       "      <td>mofa</td>\n",
       "      <td>216</td>\n",
       "      <td>216</td>\n",
       "      <td>216</td>\n",
       "      <td>216</td>\n",
       "      <td>216</td>\n",
       "      <td>216</td>\n",
       "      <td>216</td>\n",
       "      <td>216</td>\n",
       "      <td>216</td>\n",
       "    </tr>\n",
       "    <tr>\n",
       "      <th>1</th>\n",
       "      <td>mowgli</td>\n",
       "      <td>1670</td>\n",
       "      <td>1670</td>\n",
       "      <td>1670</td>\n",
       "      <td>1670</td>\n",
       "      <td>1670</td>\n",
       "      <td>1670</td>\n",
       "      <td>1670</td>\n",
       "      <td>1670</td>\n",
       "      <td>1670</td>\n",
       "    </tr>\n",
       "  </tbody>\n",
       "</table>\n",
       "</div>"
      ],
      "text/plain": [
       "   method  pathway  pval  padj    ES   NES  nMoreExtreme  size   col  minlogp\n",
       "0    mofa      216   216   216   216   216           216   216   216      216\n",
       "1  mowgli     1670  1670  1670  1670  1670          1670  1670  1670     1670"
      ]
     },
     "execution_count": 16,
     "metadata": {},
     "output_type": "execute_result"
    }
   ],
   "source": [
    "enr.groupby(\"method\").count().reset_index()"
   ]
  },
  {
   "cell_type": "code",
   "execution_count": 18,
   "metadata": {},
   "outputs": [
    {
     "data": {
      "image/png": "[encoded data removed]",
      "text/plain": [
       "<Figure size 432x288 with 1 Axes>"
      ]
     },
     "metadata": {
      "needs_background": "light"
     },
     "output_type": "display_data"
    }
   ],
   "source": [
    "plt.title(\"Total number of enriched terms per method\")\n",
    "sns.barplot(data=enr.groupby(\"method\").count().reset_index(), x=\"method\", y=\"pathway\")\n",
    "plt.show()"
   ]
  },
  {
   "cell_type": "code",
   "execution_count": 20,
   "metadata": {},
   "outputs": [
    {
     "data": {
      "image/png": "[encoded data removed]",
      "text/plain": [
       "<Figure size 432x288 with 1 Axes>"
      ]
     },
     "metadata": {
      "needs_background": "light"
     },
     "output_type": "display_data"
    }
   ],
   "source": [
    "plt.title(\"Total number of unique enriched terms per method\")\n",
    "sns.barplot(data=enr.groupby(\"method\")[\"pathway\"].nunique().reset_index(), x=\"method\", y=\"pathway\")\n",
    "plt.show()"
   ]
  },
  {
   "cell_type": "code",
   "execution_count": 21,
   "metadata": {},
   "outputs": [
    {
     "data": {
      "image/png": "[encoded data removed]",
      "text/plain": [
       "<Figure size 432x288 with 1 Axes>"
      ]
     },
     "metadata": {
      "needs_background": "light"
     },
     "output_type": "display_data"
    }
   ],
   "source": [
    "fig, ax = plt.subplots(1, 1)\n",
    "sns.barplot(data=enr.groupby([\"method\", \"col\"])[\"pathway\"].count().reset_index(), x=\"method\", y=\"pathway\", hue=\"col\", ax=ax)\n",
    "ax.get_legend().remove()\n",
    "ax.set_title(\"Number of enrichments per method and dimension\")\n",
    "plt.show()"
   ]
  },
  {
   "cell_type": "code",
   "execution_count": 22,
   "metadata": {},
   "outputs": [
    {
     "name": "stderr",
     "output_type": "stream",
     "text": [
      "<ipython-input-22-93d6431397ce>:1: SettingWithCopyWarning: \n",
      "A value is trying to be set on a copy of a slice from a DataFrame.\n",
      "Try using .loc[row_indexer,col_indexer] = value instead\n",
      "\n",
      "See the caveats in the documentation: https://pandas.pydata.org/pandas-docs/stable/user_guide/indexing.html#returning-a-view-versus-a-copy\n",
      "  enr[\"nfactors\"] = 0\n",
      "<ipython-input-22-93d6431397ce>:4: SettingWithCopyWarning: \n",
      "A value is trying to be set on a copy of a slice from a DataFrame.\n",
      "Try using .loc[row_indexer,col_indexer] = value instead\n",
      "\n",
      "See the caveats in the documentation: https://pandas.pydata.org/pandas-docs/stable/user_guide/indexing.html#returning-a-view-versus-a-copy\n",
      "  enr.loc[nfactors.index, \"nfactors\"] = nfactors\n"
     ]
    },
    {
     "data": {
      "image/png": "[encoded data removed]",
      "text/plain": [
       "<Figure size 432x288 with 1 Axes>"
      ]
     },
     "metadata": {
      "needs_background": "light"
     },
     "output_type": "display_data"
    },
    {
     "name": "stderr",
     "output_type": "stream",
     "text": [
      "<ipython-input-22-93d6431397ce>:11: SettingWithCopyWarning: \n",
      "A value is trying to be set on a copy of a slice from a DataFrame.\n",
      "Try using .loc[row_indexer,col_indexer] = value instead\n",
      "\n",
      "See the caveats in the documentation: https://pandas.pydata.org/pandas-docs/stable/user_guide/indexing.html#returning-a-view-versus-a-copy\n",
      "  enr[\"ndim\"] = 0\n",
      "<ipython-input-22-93d6431397ce>:14: SettingWithCopyWarning: \n",
      "A value is trying to be set on a copy of a slice from a DataFrame.\n",
      "Try using .loc[row_indexer,col_indexer] = value instead\n",
      "\n",
      "See the caveats in the documentation: https://pandas.pydata.org/pandas-docs/stable/user_guide/indexing.html#returning-a-view-versus-a-copy\n",
      "  enr[\"propfactors\"] = enr[\"nfactors\"] / enr[\"ndim\"]\n",
      "<ipython-input-22-93d6431397ce>:15: SettingWithCopyWarning: \n",
      "A value is trying to be set on a copy of a slice from a DataFrame.\n",
      "Try using .loc[row_indexer,col_indexer] = value instead\n",
      "\n",
      "See the caveats in the documentation: https://pandas.pydata.org/pandas-docs/stable/user_guide/indexing.html#returning-a-view-versus-a-copy\n",
      "  enr[\"dummy\"] = 1\n"
     ]
    },
    {
     "data": {
      "image/png": "[encoded data removed]",
      "text/plain": [
       "<Figure size 360x360 with 1 Axes>"
      ]
     },
     "metadata": {
      "needs_background": "light"
     },
     "output_type": "display_data"
    }
   ],
   "source": [
    "enr[\"nfactors\"] = 0\n",
    "nfactors = enr.groupby([\"pathway\", \"method\"])[\"pathway\"].count()\n",
    "enr.set_index([\"pathway\", \"method\"], inplace=True)\n",
    "enr.loc[nfactors.index, \"nfactors\"] = nfactors\n",
    "enr.reset_index(inplace=True)\n",
    "\n",
    "plt.title(\"Number of factors associated to each term\")\n",
    "sns.violinplot(data=enr, x=\"method\", y=\"nfactors\")\n",
    "plt.show()\n",
    "\n",
    "enr[\"ndim\"] = 0\n",
    "enr.loc[enr[\"method\"] == \"mofa\", \"ndim\"] = 15\n",
    "enr.loc[enr[\"method\"] == \"mowgli\", \"ndim\"] = 50\n",
    "enr[\"propfactors\"] = enr[\"nfactors\"] / enr[\"ndim\"]\n",
    "enr[\"dummy\"] = 1\n",
    "\n",
    "fig, ax = plt.subplots(1, 1, figsize=(5, 5))\n",
    "ax.set_title(\"Proportion of factors associated to each term\")\n",
    "sns.violinplot(data=enr, x=\"dummy\", hue=\"method\", y=\"propfactors\", split=True, ax=ax, inner=\"quart\")\n",
    "plt.show()"
   ]
  },
  {
   "cell_type": "code",
   "execution_count": 25,
   "metadata": {},
   "outputs": [
    {
     "data": {
      "image/png": "[encoded data removed]",
      "text/plain": [
       "<Figure size 432x288 with 1 Axes>"
      ]
     },
     "metadata": {
      "needs_background": "light"
     },
     "output_type": "display_data"
    }
   ],
   "source": [
    "selectivity = (enr.groupby(\"method\")[\"pathway\"].nunique() + enr.groupby(\"method\")[\"col\"].nunique()) / (2*enr.groupby(\"method\")[\"pathway\"].count())\n",
    "plt.title(\"Selectivity of each method\")\n",
    "sns.barplot(data=pd.DataFrame(selectivity).reset_index(), x=\"method\", y=0)\n",
    "plt.show()"
   ]
  },
  {
   "cell_type": "code",
   "execution_count": null,
   "metadata": {},
   "outputs": [],
   "source": []
  }
 ],
 "metadata": {
  "kernelspec": {
   "display_name": "Python 3.8.5 ('base')",
   "language": "python",
   "name": "python3"
  },
  "language_info": {
   "codemirror_mode": {
    "name": "ipython",
    "version": 3
   },
   "file_extension": ".py",
   "mimetype": "text/x-python",
   "name": "python",
   "nbconvert_exporter": "python",
   "pygments_lexer": "ipython3",
   "version": "3.8.5"
  },
  "orig_nbformat": 4,
  "vscode": {
   "interpreter": {
    "hash": "8ba723ea251c3bb47b49f140ac541c116def08dcde9f0d62bfab2e65e5e12241"
   }
  }
 },
 "nbformat": 4,
 "nbformat_minor": 2
}
