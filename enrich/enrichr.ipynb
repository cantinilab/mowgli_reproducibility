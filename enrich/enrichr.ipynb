{
 "cells": [
  {
   "cell_type": "code",
   "execution_count": 9,
   "metadata": {},
   "outputs": [],
   "source": [
    "# Imports\n",
    "import numpy as np\n",
    "import pandas as pd\n",
    "import muon as mu\n",
    "import mofax\n",
    "import gget"
   ]
  },
  {
   "cell_type": "code",
   "execution_count": 10,
   "metadata": {},
   "outputs": [],
   "source": [
    "# Define the data and figure folder.\n",
    "data_folder = \"/users/csb/huizing/Documents/PhD/Code/mowgli_reproducibility/data/\"\n",
    "h_folder = \"/users/csb/huizing/Documents/PhD/Code/Mowgli/local_analysis/from_jz/h/\""
   ]
  },
  {
   "cell_type": "code",
   "execution_count": 11,
   "metadata": {},
   "outputs": [],
   "source": [
    "# Load the data.\n",
    "mdata = mu.read_h5mu(data_folder + \"TEA/tea_preprocessed.h5mu.gz\")"
   ]
  },
  {
   "cell_type": "code",
   "execution_count": 12,
   "metadata": {},
   "outputs": [],
   "source": [
    "# Load MOFA+'s weights.\n",
    "mofa_model = mofax.mofa_model(data_folder + \"TEA/tea_mofa_15.hdf5\")\n",
    "H_mofa = mofa_model.get_weights(\"rna\")"
   ]
  },
  {
   "cell_type": "code",
   "execution_count": 13,
   "metadata": {},
   "outputs": [],
   "source": [
    "# Load Mowgli's weights.\n",
    "H_mowgli = np.load(\n",
    "    h_folder + \"tea_mowgli_cosine_50_0_05_rna_0_01_atac_0_1_adt_0_01_0_001.npy\",\n",
    "    allow_pickle=True,\n",
    ").item()[\"H_rna\"]"
   ]
  },
  {
   "cell_type": "code",
   "execution_count": 14,
   "metadata": {},
   "outputs": [],
   "source": [
    "n_genes = 200"
   ]
  },
  {
   "cell_type": "code",
   "execution_count": 15,
   "metadata": {},
   "outputs": [],
   "source": [
    "def top_mowgli(dim, n):\n",
    "    \"\"\"\n",
    "    Get the top n genes for a given dimension.\n",
    "    \"\"\"\n",
    "    idx = H_mowgli[:, dim].argsort()[::-1][:n]\n",
    "    return mdata[\"rna\"].var_names[idx].str.replace(\"rna:\", \"\").to_list()\n",
    "\n",
    "\n",
    "def top_mofa(dim, n):\n",
    "    \"\"\"\n",
    "    Get the top n genes for a given dimension.\n",
    "    \"\"\"\n",
    "    idx = H_mofa[:, dim].argsort()[::-1][:n]\n",
    "    return mdata[\"rna\"].var_names[idx].str.replace(\"rna:\", \"\").to_list()\n",
    "\n",
    "\n",
    "def bottom_mofa(dim, n):\n",
    "    \"\"\"\n",
    "    Get the bottom n genes for a given dimension.\n",
    "    \"\"\"\n",
    "    idx = H_mofa[:, dim].argsort()[:n]\n",
    "    return mdata[\"rna\"].var_names[idx].str.replace(\"rna:\", \"\").to_list()"
   ]
  },
  {
   "cell_type": "code",
   "execution_count": 16,
   "metadata": {},
   "outputs": [
    {
     "name": "stderr",
     "output_type": "stream",
     "text": [
      "Thu Sep  8 23:23:47 2022 INFO Performing Enichr analysis using database Azimuth_Cell_Types_2021.\n",
      "Thu Sep  8 23:23:54 2022 INFO Performing Enichr analysis using database Azimuth_Cell_Types_2021.\n",
      "Thu Sep  8 23:23:55 2022 INFO Performing Enichr analysis using database Azimuth_Cell_Types_2021.\n",
      "Thu Sep  8 23:23:56 2022 INFO Performing Enichr analysis using database Azimuth_Cell_Types_2021.\n",
      "Thu Sep  8 23:23:57 2022 INFO Performing Enichr analysis using database Azimuth_Cell_Types_2021.\n",
      "Thu Sep  8 23:23:58 2022 INFO Performing Enichr analysis using database Azimuth_Cell_Types_2021.\n",
      "Thu Sep  8 23:23:59 2022 INFO Performing Enichr analysis using database Azimuth_Cell_Types_2021.\n",
      "Thu Sep  8 23:24:00 2022 INFO Performing Enichr analysis using database Azimuth_Cell_Types_2021.\n",
      "Thu Sep  8 23:24:01 2022 INFO Performing Enichr analysis using database Azimuth_Cell_Types_2021.\n",
      "Thu Sep  8 23:24:03 2022 INFO Performing Enichr analysis using database Azimuth_Cell_Types_2021.\n",
      "Thu Sep  8 23:24:04 2022 INFO Performing Enichr analysis using database Azimuth_Cell_Types_2021.\n",
      "Thu Sep  8 23:24:05 2022 INFO Performing Enichr analysis using database Azimuth_Cell_Types_2021.\n",
      "Thu Sep  8 23:24:06 2022 INFO Performing Enichr analysis using database Azimuth_Cell_Types_2021.\n",
      "Thu Sep  8 23:24:07 2022 INFO Performing Enichr analysis using database Azimuth_Cell_Types_2021.\n",
      "Thu Sep  8 23:24:08 2022 INFO Performing Enichr analysis using database Azimuth_Cell_Types_2021.\n",
      "Thu Sep  8 23:24:09 2022 INFO Performing Enichr analysis using database Azimuth_Cell_Types_2021.\n",
      "Thu Sep  8 23:24:10 2022 INFO Performing Enichr analysis using database Azimuth_Cell_Types_2021.\n",
      "Thu Sep  8 23:24:11 2022 INFO Performing Enichr analysis using database Azimuth_Cell_Types_2021.\n",
      "Thu Sep  8 23:24:12 2022 INFO Performing Enichr analysis using database Azimuth_Cell_Types_2021.\n",
      "Thu Sep  8 23:24:13 2022 INFO Performing Enichr analysis using database Azimuth_Cell_Types_2021.\n",
      "Thu Sep  8 23:24:15 2022 INFO Performing Enichr analysis using database Azimuth_Cell_Types_2021.\n",
      "Thu Sep  8 23:24:16 2022 INFO Performing Enichr analysis using database Azimuth_Cell_Types_2021.\n",
      "Thu Sep  8 23:24:17 2022 INFO Performing Enichr analysis using database Azimuth_Cell_Types_2021.\n",
      "Thu Sep  8 23:24:18 2022 INFO Performing Enichr analysis using database Azimuth_Cell_Types_2021.\n",
      "Thu Sep  8 23:24:19 2022 INFO Performing Enichr analysis using database Azimuth_Cell_Types_2021.\n",
      "Thu Sep  8 23:24:20 2022 INFO Performing Enichr analysis using database Azimuth_Cell_Types_2021.\n",
      "Thu Sep  8 23:24:21 2022 INFO Performing Enichr analysis using database Azimuth_Cell_Types_2021.\n",
      "Thu Sep  8 23:24:22 2022 INFO Performing Enichr analysis using database Azimuth_Cell_Types_2021.\n",
      "Thu Sep  8 23:24:23 2022 INFO Performing Enichr analysis using database Azimuth_Cell_Types_2021.\n",
      "Thu Sep  8 23:24:24 2022 INFO Performing Enichr analysis using database Azimuth_Cell_Types_2021.\n",
      "Thu Sep  8 23:24:25 2022 INFO Performing Enichr analysis using database Azimuth_Cell_Types_2021.\n",
      "Thu Sep  8 23:24:26 2022 INFO Performing Enichr analysis using database Azimuth_Cell_Types_2021.\n",
      "Thu Sep  8 23:24:27 2022 INFO Performing Enichr analysis using database Azimuth_Cell_Types_2021.\n",
      "Thu Sep  8 23:24:28 2022 INFO Performing Enichr analysis using database Azimuth_Cell_Types_2021.\n",
      "Thu Sep  8 23:24:30 2022 INFO Performing Enichr analysis using database Azimuth_Cell_Types_2021.\n",
      "Thu Sep  8 23:24:31 2022 INFO Performing Enichr analysis using database Azimuth_Cell_Types_2021.\n",
      "Thu Sep  8 23:24:32 2022 INFO Performing Enichr analysis using database Azimuth_Cell_Types_2021.\n",
      "Thu Sep  8 23:24:33 2022 INFO Performing Enichr analysis using database Azimuth_Cell_Types_2021.\n",
      "Thu Sep  8 23:24:34 2022 INFO Performing Enichr analysis using database Azimuth_Cell_Types_2021.\n",
      "Thu Sep  8 23:24:35 2022 INFO Performing Enichr analysis using database Azimuth_Cell_Types_2021.\n",
      "Thu Sep  8 23:24:36 2022 INFO Performing Enichr analysis using database Azimuth_Cell_Types_2021.\n",
      "Thu Sep  8 23:24:37 2022 INFO Performing Enichr analysis using database Azimuth_Cell_Types_2021.\n",
      "Thu Sep  8 23:24:38 2022 INFO Performing Enichr analysis using database Azimuth_Cell_Types_2021.\n",
      "Thu Sep  8 23:24:39 2022 INFO Performing Enichr analysis using database Azimuth_Cell_Types_2021.\n",
      "Thu Sep  8 23:24:40 2022 INFO Performing Enichr analysis using database Azimuth_Cell_Types_2021.\n",
      "Thu Sep  8 23:24:41 2022 INFO Performing Enichr analysis using database Azimuth_Cell_Types_2021.\n",
      "Thu Sep  8 23:24:42 2022 INFO Performing Enichr analysis using database Azimuth_Cell_Types_2021.\n",
      "Thu Sep  8 23:24:43 2022 INFO Performing Enichr analysis using database Azimuth_Cell_Types_2021.\n",
      "Thu Sep  8 23:24:44 2022 INFO Performing Enichr analysis using database Azimuth_Cell_Types_2021.\n",
      "Thu Sep  8 23:24:45 2022 INFO Performing Enichr analysis using database Azimuth_Cell_Types_2021.\n",
      "Thu Sep  8 23:24:46 2022 INFO Performing Enichr analysis using database Azimuth_Cell_Types_2021.\n",
      "Thu Sep  8 23:24:47 2022 INFO Performing Enichr analysis using database Azimuth_Cell_Types_2021.\n",
      "Thu Sep  8 23:24:48 2022 INFO Performing Enichr analysis using database Azimuth_Cell_Types_2021.\n",
      "Thu Sep  8 23:24:49 2022 INFO Performing Enichr analysis using database Azimuth_Cell_Types_2021.\n",
      "Thu Sep  8 23:24:50 2022 INFO Performing Enichr analysis using database Azimuth_Cell_Types_2021.\n",
      "Thu Sep  8 23:24:52 2022 INFO Performing Enichr analysis using database Azimuth_Cell_Types_2021.\n",
      "Thu Sep  8 23:24:53 2022 INFO Performing Enichr analysis using database Azimuth_Cell_Types_2021.\n",
      "Thu Sep  8 23:24:54 2022 INFO Performing Enichr analysis using database Azimuth_Cell_Types_2021.\n",
      "Thu Sep  8 23:24:55 2022 INFO Performing Enichr analysis using database Azimuth_Cell_Types_2021.\n",
      "Thu Sep  8 23:24:56 2022 INFO Performing Enichr analysis using database Azimuth_Cell_Types_2021.\n",
      "Thu Sep  8 23:24:58 2022 INFO Performing Enichr analysis using database Azimuth_Cell_Types_2021.\n",
      "Thu Sep  8 23:24:59 2022 INFO Performing Enichr analysis using database Azimuth_Cell_Types_2021.\n",
      "Thu Sep  8 23:25:00 2022 INFO Performing Enichr analysis using database Azimuth_Cell_Types_2021.\n",
      "Thu Sep  8 23:25:01 2022 INFO Performing Enichr analysis using database Azimuth_Cell_Types_2021.\n",
      "Thu Sep  8 23:25:03 2022 INFO Performing Enichr analysis using database Azimuth_Cell_Types_2021.\n",
      "Thu Sep  8 23:25:04 2022 INFO Performing Enichr analysis using database Azimuth_Cell_Types_2021.\n",
      "Thu Sep  8 23:25:05 2022 INFO Performing Enichr analysis using database Azimuth_Cell_Types_2021.\n",
      "Thu Sep  8 23:25:06 2022 INFO Performing Enichr analysis using database Azimuth_Cell_Types_2021.\n",
      "Thu Sep  8 23:25:07 2022 INFO Performing Enichr analysis using database Azimuth_Cell_Types_2021.\n",
      "Thu Sep  8 23:25:09 2022 INFO Performing Enichr analysis using database Azimuth_Cell_Types_2021.\n",
      "Thu Sep  8 23:25:10 2022 INFO Performing Enichr analysis using database Azimuth_Cell_Types_2021.\n",
      "Thu Sep  8 23:25:11 2022 INFO Performing Enichr analysis using database Azimuth_Cell_Types_2021.\n",
      "Thu Sep  8 23:25:12 2022 INFO Performing Enichr analysis using database Azimuth_Cell_Types_2021.\n",
      "Thu Sep  8 23:25:13 2022 INFO Performing Enichr analysis using database Azimuth_Cell_Types_2021.\n",
      "Thu Sep  8 23:25:15 2022 INFO Performing Enichr analysis using database Azimuth_Cell_Types_2021.\n",
      "Thu Sep  8 23:25:16 2022 INFO Performing Enichr analysis using database Azimuth_Cell_Types_2021.\n",
      "Thu Sep  8 23:25:17 2022 INFO Performing Enichr analysis using database Azimuth_Cell_Types_2021.\n",
      "Thu Sep  8 23:25:18 2022 INFO Performing Enichr analysis using database Azimuth_Cell_Types_2021.\n",
      "Thu Sep  8 23:25:19 2022 INFO Performing Enichr analysis using database Azimuth_Cell_Types_2021.\n",
      "Thu Sep  8 23:25:20 2022 INFO Performing Enichr analysis using database Azimuth_Cell_Types_2021.\n"
     ]
    }
   ],
   "source": [
    "sources = [\n",
    "    # \"GO_Biological_Process_2021\",\n",
    "    # \"GO_Cellular_Component_2021\",\n",
    "    # \"GO_Molecular_Function_2021\",\n",
    "    # \"KEGG_2021_Human\",\n",
    "    # \"PanglaoDB_Augmented_2021\",\n",
    "    # \"Reactome_2016\",\n",
    "    \"Azimuth_Cell_Types_2021\",\n",
    "]\n",
    "enr_total = pd.DataFrame({})\n",
    "\n",
    "for source in sources:\n",
    "    for dim in range(H_mowgli.shape[1]):\n",
    "        enr = gget.enrichr(genes=top_mowgli(dim, n_genes), database=source)\n",
    "        enr[\"dim\"] = dim\n",
    "        enr[\"source\"] = source\n",
    "        enr[\"method\"] = \"mowgli\"\n",
    "        enr[\"query\"] = f\"mowgli {dim}\"\n",
    "        enr_total = pd.concat([enr_total, enr])\n",
    "\n",
    "    for dim in range(H_mofa.shape[1]):\n",
    "        enr = gget.enrichr(genes=top_mofa(dim, n_genes), database=source)\n",
    "        enr[\"dim\"] = dim\n",
    "        enr[\"source\"] = source\n",
    "        enr[\"method\"] = \"mofa\"\n",
    "        enr[\"query\"] = f\"top_mofa {dim}\"\n",
    "        enr_total = pd.concat([enr_total, enr])\n",
    "\n",
    "    for dim in range(H_mofa.shape[1]):\n",
    "        enr = gget.enrichr(genes=bottom_mofa(dim, n_genes), database=source)\n",
    "        enr[\"dim\"] = dim\n",
    "        enr[\"source\"] = source\n",
    "        enr[\"method\"] = \"mofa\"\n",
    "        enr[\"query\"] = f\"bottom_mofa {dim}\"\n",
    "        enr_total = pd.concat([enr_total, enr])\n"
   ]
  },
  {
   "cell_type": "code",
   "execution_count": 17,
   "metadata": {},
   "outputs": [
    {
     "data": {
      "text/plain": [
       "6864"
      ]
     },
     "execution_count": 17,
     "metadata": {},
     "output_type": "execute_result"
    }
   ],
   "source": [
    "len(enr_total)"
   ]
  },
  {
   "cell_type": "code",
   "execution_count": 18,
   "metadata": {},
   "outputs": [],
   "source": [
    "enr_total = enr_total[enr_total[\"adj_p_val\"] < .05]"
   ]
  },
  {
   "cell_type": "code",
   "execution_count": 19,
   "metadata": {},
   "outputs": [
    {
     "data": {
      "text/plain": [
       "1659"
      ]
     },
     "execution_count": 19,
     "metadata": {},
     "output_type": "execute_result"
    }
   ],
   "source": [
    "len(enr_total)"
   ]
  },
  {
   "cell_type": "code",
   "execution_count": 20,
   "metadata": {},
   "outputs": [
    {
     "data": {
      "text/html": [
       "<div>\n",
       "<style scoped>\n",
       "    .dataframe tbody tr th:only-of-type {\n",
       "        vertical-align: middle;\n",
       "    }\n",
       "\n",
       "    .dataframe tbody tr th {\n",
       "        vertical-align: top;\n",
       "    }\n",
       "\n",
       "    .dataframe thead th {\n",
       "        text-align: right;\n",
       "    }\n",
       "</style>\n",
       "<table border=\"1\" class=\"dataframe\">\n",
       "  <thead>\n",
       "    <tr style=\"text-align: right;\">\n",
       "      <th></th>\n",
       "      <th>rank</th>\n",
       "      <th>path_name</th>\n",
       "      <th>p_val</th>\n",
       "      <th>z_score</th>\n",
       "      <th>combined_score</th>\n",
       "      <th>overlapping_genes</th>\n",
       "      <th>adj_p_val</th>\n",
       "      <th>database</th>\n",
       "      <th>dim</th>\n",
       "      <th>source</th>\n",
       "      <th>method</th>\n",
       "      <th>query</th>\n",
       "    </tr>\n",
       "  </thead>\n",
       "  <tbody>\n",
       "    <tr>\n",
       "      <th>0</th>\n",
       "      <td>1</td>\n",
       "      <td>B Cell CL0000785</td>\n",
       "      <td>0.000002</td>\n",
       "      <td>67.326531</td>\n",
       "      <td>885.393278</td>\n",
       "      <td>[CD74, BANK1, MS4A1, RALGPS2]</td>\n",
       "      <td>0.000082</td>\n",
       "      <td>Azimuth_Cell_Types_2021</td>\n",
       "      <td>0</td>\n",
       "      <td>Azimuth_Cell_Types_2021</td>\n",
       "      <td>mowgli</td>\n",
       "      <td>mowgli 0</td>\n",
       "    </tr>\n",
       "    <tr>\n",
       "      <th>1</th>\n",
       "      <td>2</td>\n",
       "      <td>CD4 T CL0000624</td>\n",
       "      <td>0.000002</td>\n",
       "      <td>67.326531</td>\n",
       "      <td>885.393278</td>\n",
       "      <td>[BCL11B, CAMK4, LEF1, MALAT1]</td>\n",
       "      <td>0.000082</td>\n",
       "      <td>Azimuth_Cell_Types_2021</td>\n",
       "      <td>0</td>\n",
       "      <td>Azimuth_Cell_Types_2021</td>\n",
       "      <td>mowgli</td>\n",
       "      <td>mowgli 0</td>\n",
       "    </tr>\n",
       "    <tr>\n",
       "      <th>2</th>\n",
       "      <td>3</td>\n",
       "      <td>Memory B Cell, Kappa Light Chain CL0000787</td>\n",
       "      <td>0.000079</td>\n",
       "      <td>50.238579</td>\n",
       "      <td>474.457917</td>\n",
       "      <td>[BANK1, MS4A1, RALGPS2]</td>\n",
       "      <td>0.001571</td>\n",
       "      <td>Azimuth_Cell_Types_2021</td>\n",
       "      <td>0</td>\n",
       "      <td>Azimuth_Cell_Types_2021</td>\n",
       "      <td>mowgli</td>\n",
       "      <td>mowgli 0</td>\n",
       "    </tr>\n",
       "    <tr>\n",
       "      <th>3</th>\n",
       "      <td>4</td>\n",
       "      <td>Intermediate B Cell CL0000785</td>\n",
       "      <td>0.000112</td>\n",
       "      <td>43.059463</td>\n",
       "      <td>391.617756</td>\n",
       "      <td>[BANK1, MS4A1, RALGPS2]</td>\n",
       "      <td>0.001571</td>\n",
       "      <td>Azimuth_Cell_Types_2021</td>\n",
       "      <td>0</td>\n",
       "      <td>Azimuth_Cell_Types_2021</td>\n",
       "      <td>mowgli</td>\n",
       "      <td>mowgli 0</td>\n",
       "    </tr>\n",
       "    <tr>\n",
       "      <th>4</th>\n",
       "      <td>5</td>\n",
       "      <td>B CL0000236</td>\n",
       "      <td>0.000112</td>\n",
       "      <td>43.059463</td>\n",
       "      <td>391.617756</td>\n",
       "      <td>[ADAM28, BANK1, MS4A1]</td>\n",
       "      <td>0.001571</td>\n",
       "      <td>Azimuth_Cell_Types_2021</td>\n",
       "      <td>0</td>\n",
       "      <td>Azimuth_Cell_Types_2021</td>\n",
       "      <td>mowgli</td>\n",
       "      <td>mowgli 0</td>\n",
       "    </tr>\n",
       "  </tbody>\n",
       "</table>\n",
       "</div>"
      ],
      "text/plain": [
       "   rank                                   path_name     p_val    z_score  \\\n",
       "0     1                            B Cell CL0000785  0.000002  67.326531   \n",
       "1     2                             CD4 T CL0000624  0.000002  67.326531   \n",
       "2     3  Memory B Cell, Kappa Light Chain CL0000787  0.000079  50.238579   \n",
       "3     4               Intermediate B Cell CL0000785  0.000112  43.059463   \n",
       "4     5                                 B CL0000236  0.000112  43.059463   \n",
       "\n",
       "   combined_score              overlapping_genes  adj_p_val  \\\n",
       "0      885.393278  [CD74, BANK1, MS4A1, RALGPS2]   0.000082   \n",
       "1      885.393278  [BCL11B, CAMK4, LEF1, MALAT1]   0.000082   \n",
       "2      474.457917        [BANK1, MS4A1, RALGPS2]   0.001571   \n",
       "3      391.617756        [BANK1, MS4A1, RALGPS2]   0.001571   \n",
       "4      391.617756         [ADAM28, BANK1, MS4A1]   0.001571   \n",
       "\n",
       "                  database  dim                   source  method     query  \n",
       "0  Azimuth_Cell_Types_2021    0  Azimuth_Cell_Types_2021  mowgli  mowgli 0  \n",
       "1  Azimuth_Cell_Types_2021    0  Azimuth_Cell_Types_2021  mowgli  mowgli 0  \n",
       "2  Azimuth_Cell_Types_2021    0  Azimuth_Cell_Types_2021  mowgli  mowgli 0  \n",
       "3  Azimuth_Cell_Types_2021    0  Azimuth_Cell_Types_2021  mowgli  mowgli 0  \n",
       "4  Azimuth_Cell_Types_2021    0  Azimuth_Cell_Types_2021  mowgli  mowgli 0  "
      ]
     },
     "execution_count": 20,
     "metadata": {},
     "output_type": "execute_result"
    }
   ],
   "source": [
    "enr_total.head()"
   ]
  },
  {
   "cell_type": "code",
   "execution_count": 21,
   "metadata": {},
   "outputs": [],
   "source": [
    "enr_total.to_csv(\"/users/csb/huizing/Documents/PhD/Code/mowgli_reproducibility/enrich/enrichr.csv\")"
   ]
  },
  {
   "cell_type": "code",
   "execution_count": null,
   "metadata": {},
   "outputs": [],
   "source": []
  }
 ],
 "metadata": {
  "kernelspec": {
   "display_name": "Python 3.8.5 ('base')",
   "language": "python",
   "name": "python3"
  },
  "language_info": {
   "codemirror_mode": {
    "name": "ipython",
    "version": 3
   },
   "file_extension": ".py",
   "mimetype": "text/x-python",
   "name": "python",
   "nbconvert_exporter": "python",
   "pygments_lexer": "ipython3",
   "version": "3.8.5"
  },
  "orig_nbformat": 4,
  "vscode": {
   "interpreter": {
    "hash": "8ba723ea251c3bb47b49f140ac541c116def08dcde9f0d62bfab2e65e5e12241"
   }
  }
 },
 "nbformat": 4,
 "nbformat_minor": 2
}
