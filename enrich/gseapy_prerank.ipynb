{
 "cells": [
  {
   "cell_type": "code",
   "execution_count": 1,
   "metadata": {},
   "outputs": [
    {
     "name": "stderr",
     "output_type": "stream",
     "text": [
      "<frozen importlib._bootstrap>:219: RuntimeWarning: scipy._lib.messagestream.MessageStream size changed, may indicate binary incompatibility. Expected 56 from C header, got 64 from PyObject\n"
     ]
    }
   ],
   "source": [
    "# Imports\n",
    "import numpy as np\n",
    "import pandas as pd\n",
    "import muon as mu\n",
    "import mofax\n",
    "import gget\n",
    "import gseapy as gp"
   ]
  },
  {
   "cell_type": "code",
   "execution_count": 2,
   "metadata": {},
   "outputs": [],
   "source": [
    "# Define the data and figure folder.\n",
    "data_folder = \"/users/csb/huizing/Documents/PhD/Code/mowgli_reproducibility/data/\"\n",
    "h_folder = \"/users/csb/huizing/Documents/PhD/Code/Mowgli/local_analysis/from_jz/h/\""
   ]
  },
  {
   "cell_type": "code",
   "execution_count": 5,
   "metadata": {},
   "outputs": [],
   "source": [
    "# Load the data.\n",
    "mdata = mu.read_h5mu(data_folder + \"TEA/tea_preprocessed.h5mu.gz\")"
   ]
  },
  {
   "cell_type": "code",
   "execution_count": 6,
   "metadata": {},
   "outputs": [],
   "source": [
    "# Load MOFA+'s weights.\n",
    "mofa_model = mofax.mofa_model(data_folder + \"TEA/tea_mofa_15.hdf5\")\n",
    "H_mofa = mofa_model.get_weights(\"rna\")"
   ]
  },
  {
   "cell_type": "code",
   "execution_count": 7,
   "metadata": {},
   "outputs": [],
   "source": [
    "# Load Mowgli's weights.\n",
    "H_mowgli = np.load(\n",
    "    h_folder + \"tea_mowgli_cosine_50_0_05_rna_0_01_atac_0_1_adt_0_01_0_001.npy\",\n",
    "    allow_pickle=True,\n",
    ").item()[\"H_rna\"]"
   ]
  },
  {
   "cell_type": "code",
   "execution_count": 3,
   "metadata": {},
   "outputs": [],
   "source": [
    "def top_mowgli(dim):\n",
    "    \"\"\"\n",
    "    Get the top n genes for a given dimension.\n",
    "    \"\"\"\n",
    "    idx = H_mowgli[:, dim].argsort()[::-1]\n",
    "    return mdata[\"rna\"].var_names[idx].str.replace(\"rna:\", \"\").to_list()\n",
    "\n",
    "\n",
    "def top_mofa(dim):\n",
    "    \"\"\"\n",
    "    Get the top n genes for a given dimension.\n",
    "    \"\"\"\n",
    "    idx = H_mofa[:, dim].argsort()[::-1]\n",
    "    return mdata[\"rna\"].var_names[idx].str.replace(\"rna:\", \"\").to_list()"
   ]
  },
  {
   "cell_type": "code",
   "execution_count": 4,
   "metadata": {},
   "outputs": [],
   "source": [
    "gmt_folder = \"/users/csb/huizing/Documents/PhD/Code/mowgli_reproducibility/enrich/gmts/\"\n",
    "sources = [\n",
    "    gmt_folder + \"GO_Biological_Process_2021\",\n",
    "    gmt_folder + \"GO_Cellular_Component_2021\",\n",
    "    gmt_folder + \"GO_Molecular_Function_2021\",\n",
    "    gmt_folder + \"KEGG_2021_Human\",\n",
    "    gmt_folder + \"PanglaoDB_Augmented_2021\",\n",
    "    gmt_folder + \"Reactome_2016\",\n",
    "]"
   ]
  }
 ],
 "metadata": {
  "kernelspec": {
   "display_name": "Python 3.8.5 ('base')",
   "language": "python",
   "name": "python3"
  },
  "language_info": {
   "codemirror_mode": {
    "name": "ipython",
    "version": 3
   },
   "file_extension": ".py",
   "mimetype": "text/x-python",
   "name": "python",
   "nbconvert_exporter": "python",
   "pygments_lexer": "ipython3",
   "version": "3.8.5"
  },
  "orig_nbformat": 4,
  "vscode": {
   "interpreter": {
    "hash": "8ba723ea251c3bb47b49f140ac541c116def08dcde9f0d62bfab2e65e5e12241"
   }
  }
 },
 "nbformat": 4,
 "nbformat_minor": 2
}
