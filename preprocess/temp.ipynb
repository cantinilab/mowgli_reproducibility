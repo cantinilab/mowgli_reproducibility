{
 "cells": [
  {
   "cell_type": "code",
   "execution_count": 27,
   "metadata": {},
   "outputs": [],
   "source": [
    "import muon as mu\n",
    "import anndata as ad"
   ]
  },
  {
   "cell_type": "code",
   "execution_count": 28,
   "metadata": {},
   "outputs": [
    {
     "data": {
      "text/html": [
       "<pre>MuData object with n_obs × n_vars = 29803 × 2525\n",
       "  var:\t&#x27;highly_variable&#x27;\n",
       "  2 modalities\n",
       "    adt:\t29803 x 25\n",
       "      obs:\t&#x27;orig.ident&#x27;, &#x27;nCount_RNA&#x27;, &#x27;nFeature_RNA&#x27;, &#x27;nCount_ADT&#x27;, &#x27;nFeature_ADT&#x27;, &#x27;lane&#x27;, &#x27;donor&#x27;, &#x27;celltype.l1&#x27;, &#x27;celltype.l2&#x27;, &#x27;RNA.weight&#x27;, &#x27;ident&#x27;, &#x27;celltype&#x27;\n",
       "      var:\t&#x27;highly_variable&#x27;\n",
       "      layers:\t&#x27;logcounts&#x27;\n",
       "    rna:\t29803 x 2500\n",
       "      obs:\t&#x27;orig.ident&#x27;, &#x27;nCount_RNA&#x27;, &#x27;nFeature_RNA&#x27;, &#x27;nCount_ADT&#x27;, &#x27;nFeature_ADT&#x27;, &#x27;lane&#x27;, &#x27;donor&#x27;, &#x27;celltype.l1&#x27;, &#x27;celltype.l2&#x27;, &#x27;RNA.weight&#x27;, &#x27;ident&#x27;, &#x27;celltype&#x27;, &#x27;n_genes_by_counts&#x27;, &#x27;total_counts&#x27;, &#x27;total_counts_mt&#x27;, &#x27;pct_counts_mt&#x27;\n",
       "      var:\t&#x27;vst.mean&#x27;, &#x27;vst.variance&#x27;, &#x27;vst.variance.expected&#x27;, &#x27;vst.variance.standardized&#x27;, &#x27;vst.variable&#x27;, &#x27;mt&#x27;, &#x27;n_cells_by_counts&#x27;, &#x27;mean_counts&#x27;, &#x27;pct_dropout_by_counts&#x27;, &#x27;total_counts&#x27;, &#x27;highly_variable&#x27;, &#x27;means&#x27;, &#x27;dispersions&#x27;, &#x27;dispersions_norm&#x27;\n",
       "      uns:\t&#x27;hvg&#x27;, &#x27;markers&#x27;\n",
       "      obsm:\t&#x27;SPCA&#x27;\n",
       "      layers:\t&#x27;counts&#x27;</pre>"
      ],
      "text/plain": [
       "MuData object with n_obs × n_vars = 29803 × 2525\n",
       "  var:\t'highly_variable'\n",
       "  2 modalities\n",
       "    adt:\t29803 x 25\n",
       "      obs:\t'orig.ident', 'nCount_RNA', 'nFeature_RNA', 'nCount_ADT', 'nFeature_ADT', 'lane', 'donor', 'celltype.l1', 'celltype.l2', 'RNA.weight', 'ident', 'celltype'\n",
       "      var:\t'highly_variable'\n",
       "      layers:\t'logcounts'\n",
       "    rna:\t29803 x 2500\n",
       "      obs:\t'orig.ident', 'nCount_RNA', 'nFeature_RNA', 'nCount_ADT', 'nFeature_ADT', 'lane', 'donor', 'celltype.l1', 'celltype.l2', 'RNA.weight', 'ident', 'celltype', 'n_genes_by_counts', 'total_counts', 'total_counts_mt', 'pct_counts_mt'\n",
       "      var:\t'vst.mean', 'vst.variance', 'vst.variance.expected', 'vst.variance.standardized', 'vst.variable', 'mt', 'n_cells_by_counts', 'mean_counts', 'pct_dropout_by_counts', 'total_counts', 'highly_variable', 'means', 'dispersions', 'dispersions_norm'\n",
       "      uns:\t'hvg', 'markers'\n",
       "      obsm:\t'SPCA'\n",
       "      layers:\t'counts'"
      ]
     },
     "execution_count": 28,
     "metadata": {},
     "output_type": "execute_result"
    }
   ],
   "source": [
    "mdata = mu.read_h5mu('/users/csb/huizing/Documents/PhD/Code/mowgli_reproducibility/data/BMCITE/bmcite_preprocessed.h5mu.gz')\n",
    "mdata"
   ]
  },
  {
   "cell_type": "code",
   "execution_count": 29,
   "metadata": {},
   "outputs": [],
   "source": [
    "adata = ad.AnnData(mdata[\"rna\"].X)\n",
    "adata.obs_names = mdata[\"rna\"].obs_names\n",
    "adata.obs[\"celltype\"] = mdata[\"rna\"].obs[\"celltype\"]\n",
    "adata.var_names = mdata[\"rna\"].var_names\n",
    "adata.write_h5ad('/users/csb/huizing/Documents/PhD/Code/mowgli_reproducibility/data/BMCITE/bmcite_preprocessed_rna.h5ad')\n",
    "\n",
    "adata = ad.AnnData(mdata[\"adt\"].X)\n",
    "adata.obs_names = mdata[\"adt\"].obs_names\n",
    "adata.obs[\"celltype\"] = mdata[\"adt\"].obs[\"celltype\"]\n",
    "adata.var_names = mdata[\"adt\"].var_names\n",
    "adata.write_h5ad('/users/csb/huizing/Documents/PhD/Code/mowgli_reproducibility/data/BMCITE/bmcite_preprocessed_adt.h5ad')"
   ]
  },
  {
   "cell_type": "code",
   "execution_count": 30,
   "metadata": {},
   "outputs": [
    {
     "data": {
      "text/html": [
       "<pre>MuData object with n_obs × n_vars = 4249 × 2634\n",
       "  var:\t&#x27;feature_types&#x27;, &#x27;gene_id&#x27;, &#x27;highly_variable&#x27;\n",
       "  2 modalities\n",
       "    adt:\t4249 x 134\n",
       "      obs:\t&#x27;GEX_n_genes_by_counts&#x27;, &#x27;GEX_pct_counts_mt&#x27;, &#x27;GEX_size_factors&#x27;, &#x27;GEX_phase&#x27;, &#x27;ADT_n_antibodies_by_counts&#x27;, &#x27;ADT_total_counts&#x27;, &#x27;ADT_iso_count&#x27;, &#x27;cell_type&#x27;, &#x27;batch&#x27;, &#x27;ADT_pseudotime_order&#x27;, &#x27;GEX_pseudotime_order&#x27;, &#x27;Samplename&#x27;, &#x27;Site&#x27;, &#x27;DonorNumber&#x27;, &#x27;Modality&#x27;, &#x27;VendorLot&#x27;, &#x27;DonorID&#x27;, &#x27;DonorAge&#x27;, &#x27;DonorBMI&#x27;, &#x27;DonorBloodType&#x27;, &#x27;DonorRace&#x27;, &#x27;Ethnicity&#x27;, &#x27;DonorGender&#x27;, &#x27;QCMeds&#x27;, &#x27;DonorSmoker&#x27;, &#x27;is_train&#x27;, &#x27;celltype&#x27;\n",
       "      var:\t&#x27;feature_types&#x27;, &#x27;gene_id&#x27;, &#x27;highly_variable&#x27;\n",
       "      uns:\t&#x27;dataset_id&#x27;, &#x27;genome&#x27;, &#x27;organism&#x27;\n",
       "      obsm:\t&#x27;ADT_X_pca&#x27;, &#x27;ADT_X_umap&#x27;, &#x27;ADT_isotype_controls&#x27;, &#x27;GEX_X_pca&#x27;, &#x27;GEX_X_umap&#x27;\n",
       "      layers:\t&#x27;counts&#x27;\n",
       "    rna:\t4249 x 2500\n",
       "      obs:\t&#x27;GEX_n_genes_by_counts&#x27;, &#x27;GEX_pct_counts_mt&#x27;, &#x27;GEX_size_factors&#x27;, &#x27;GEX_phase&#x27;, &#x27;ADT_n_antibodies_by_counts&#x27;, &#x27;ADT_total_counts&#x27;, &#x27;ADT_iso_count&#x27;, &#x27;cell_type&#x27;, &#x27;batch&#x27;, &#x27;ADT_pseudotime_order&#x27;, &#x27;GEX_pseudotime_order&#x27;, &#x27;Samplename&#x27;, &#x27;Site&#x27;, &#x27;DonorNumber&#x27;, &#x27;Modality&#x27;, &#x27;VendorLot&#x27;, &#x27;DonorID&#x27;, &#x27;DonorAge&#x27;, &#x27;DonorBMI&#x27;, &#x27;DonorBloodType&#x27;, &#x27;DonorRace&#x27;, &#x27;Ethnicity&#x27;, &#x27;DonorGender&#x27;, &#x27;QCMeds&#x27;, &#x27;DonorSmoker&#x27;, &#x27;is_train&#x27;, &#x27;celltype&#x27;, &#x27;n_genes_by_counts&#x27;, &#x27;total_counts&#x27;, &#x27;total_counts_mt&#x27;, &#x27;pct_counts_mt&#x27;\n",
       "      var:\t&#x27;feature_types&#x27;, &#x27;gene_id&#x27;, &#x27;mt&#x27;, &#x27;n_cells_by_counts&#x27;, &#x27;mean_counts&#x27;, &#x27;pct_dropout_by_counts&#x27;, &#x27;total_counts&#x27;, &#x27;highly_variable&#x27;, &#x27;means&#x27;, &#x27;dispersions&#x27;, &#x27;dispersions_norm&#x27;\n",
       "      uns:\t&#x27;dataset_id&#x27;, &#x27;genome&#x27;, &#x27;hvg&#x27;, &#x27;organism&#x27;\n",
       "      obsm:\t&#x27;ADT_X_pca&#x27;, &#x27;ADT_X_umap&#x27;, &#x27;ADT_isotype_controls&#x27;, &#x27;GEX_X_pca&#x27;, &#x27;GEX_X_umap&#x27;\n",
       "      layers:\t&#x27;counts&#x27;</pre>"
      ],
      "text/plain": [
       "MuData object with n_obs × n_vars = 4249 × 2634\n",
       "  var:\t'feature_types', 'gene_id', 'highly_variable'\n",
       "  2 modalities\n",
       "    adt:\t4249 x 134\n",
       "      obs:\t'GEX_n_genes_by_counts', 'GEX_pct_counts_mt', 'GEX_size_factors', 'GEX_phase', 'ADT_n_antibodies_by_counts', 'ADT_total_counts', 'ADT_iso_count', 'cell_type', 'batch', 'ADT_pseudotime_order', 'GEX_pseudotime_order', 'Samplename', 'Site', 'DonorNumber', 'Modality', 'VendorLot', 'DonorID', 'DonorAge', 'DonorBMI', 'DonorBloodType', 'DonorRace', 'Ethnicity', 'DonorGender', 'QCMeds', 'DonorSmoker', 'is_train', 'celltype'\n",
       "      var:\t'feature_types', 'gene_id', 'highly_variable'\n",
       "      uns:\t'dataset_id', 'genome', 'organism'\n",
       "      obsm:\t'ADT_X_pca', 'ADT_X_umap', 'ADT_isotype_controls', 'GEX_X_pca', 'GEX_X_umap'\n",
       "      layers:\t'counts'\n",
       "    rna:\t4249 x 2500\n",
       "      obs:\t'GEX_n_genes_by_counts', 'GEX_pct_counts_mt', 'GEX_size_factors', 'GEX_phase', 'ADT_n_antibodies_by_counts', 'ADT_total_counts', 'ADT_iso_count', 'cell_type', 'batch', 'ADT_pseudotime_order', 'GEX_pseudotime_order', 'Samplename', 'Site', 'DonorNumber', 'Modality', 'VendorLot', 'DonorID', 'DonorAge', 'DonorBMI', 'DonorBloodType', 'DonorRace', 'Ethnicity', 'DonorGender', 'QCMeds', 'DonorSmoker', 'is_train', 'celltype', 'n_genes_by_counts', 'total_counts', 'total_counts_mt', 'pct_counts_mt'\n",
       "      var:\t'feature_types', 'gene_id', 'mt', 'n_cells_by_counts', 'mean_counts', 'pct_dropout_by_counts', 'total_counts', 'highly_variable', 'means', 'dispersions', 'dispersions_norm'\n",
       "      uns:\t'dataset_id', 'genome', 'hvg', 'organism'\n",
       "      obsm:\t'ADT_X_pca', 'ADT_X_umap', 'ADT_isotype_controls', 'GEX_X_pca', 'GEX_X_umap'\n",
       "      layers:\t'counts'"
      ]
     },
     "execution_count": 30,
     "metadata": {},
     "output_type": "execute_result"
    }
   ],
   "source": [
    "mdata = mu.read_h5mu('/users/csb/huizing/Documents/PhD/Code/mowgli_reproducibility/data/OPCITE/opcite_preprocessed.h5mu.gz')\n",
    "mdata"
   ]
  },
  {
   "cell_type": "code",
   "execution_count": 31,
   "metadata": {},
   "outputs": [],
   "source": [
    "adata = ad.AnnData(mdata[\"rna\"].X)\n",
    "adata.obs_names = mdata[\"rna\"].obs_names\n",
    "adata.obs[\"celltype\"] = mdata[\"rna\"].obs[\"celltype\"]\n",
    "adata.var_names = mdata[\"rna\"].var_names\n",
    "adata.write_h5ad('/users/csb/huizing/Documents/PhD/Code/mowgli_reproducibility/data/OPCITE/opcite_preprocessed_rna.h5ad')\n",
    "\n",
    "adata = ad.AnnData(mdata[\"adt\"].X)\n",
    "adata.obs_names = mdata[\"adt\"].obs_names\n",
    "adata.obs[\"celltype\"] = mdata[\"adt\"].obs[\"celltype\"]\n",
    "adata.var_names = mdata[\"adt\"].var_names\n",
    "adata.write_h5ad('/users/csb/huizing/Documents/PhD/Code/mowgli_reproducibility/data/OPCITE/opcite_preprocessed_adt.h5ad')"
   ]
  },
  {
   "cell_type": "code",
   "execution_count": 32,
   "metadata": {},
   "outputs": [
    {
     "data": {
      "text/html": [
       "<pre>MuData object with n_obs × n_vars = 6137 × 17500\n",
       "  var:\t&#x27;dispersions&#x27;, &#x27;dispersions_norm&#x27;, &#x27;feature_types&#x27;, &#x27;gene_id&#x27;, &#x27;highly_variable&#x27;, &#x27;mean_counts&#x27;, &#x27;means&#x27;, &#x27;n_cells_by_counts&#x27;, &#x27;pct_dropout_by_counts&#x27;, &#x27;total_counts&#x27;\n",
       "  2 modalities\n",
       "    atac:\t6137 x 15000\n",
       "      obs:\t&#x27;GEX_pct_counts_mt&#x27;, &#x27;GEX_n_counts&#x27;, &#x27;GEX_n_genes&#x27;, &#x27;GEX_size_factors&#x27;, &#x27;GEX_phase&#x27;, &#x27;ATAC_nCount_peaks&#x27;, &#x27;ATAC_atac_fragments&#x27;, &#x27;ATAC_reads_in_peaks_frac&#x27;, &#x27;ATAC_blacklist_fraction&#x27;, &#x27;ATAC_nucleosome_signal&#x27;, &#x27;cell_type&#x27;, &#x27;batch&#x27;, &#x27;ATAC_pseudotime_order&#x27;, &#x27;GEX_pseudotime_order&#x27;, &#x27;Samplename&#x27;, &#x27;Site&#x27;, &#x27;DonorNumber&#x27;, &#x27;Modality&#x27;, &#x27;VendorLot&#x27;, &#x27;DonorID&#x27;, &#x27;DonorAge&#x27;, &#x27;DonorBMI&#x27;, &#x27;DonorBloodType&#x27;, &#x27;DonorRace&#x27;, &#x27;Ethnicity&#x27;, &#x27;DonorGender&#x27;, &#x27;QCMeds&#x27;, &#x27;DonorSmoker&#x27;, &#x27;celltype&#x27;, &#x27;n_genes_by_counts&#x27;, &#x27;total_counts&#x27;\n",
       "      var:\t&#x27;feature_types&#x27;, &#x27;gene_id&#x27;, &#x27;n_cells_by_counts&#x27;, &#x27;mean_counts&#x27;, &#x27;pct_dropout_by_counts&#x27;, &#x27;total_counts&#x27;, &#x27;highly_variable&#x27;, &#x27;means&#x27;, &#x27;dispersions&#x27;, &#x27;dispersions_norm&#x27;\n",
       "      uns:\t&#x27;ATAC_gene_activity_var_names&#x27;, &#x27;dataset_id&#x27;, &#x27;genome&#x27;, &#x27;hvg&#x27;, &#x27;organism&#x27;\n",
       "      obsm:\t&#x27;ATAC_gene_activity&#x27;, &#x27;ATAC_lsi_full&#x27;, &#x27;ATAC_lsi_red&#x27;, &#x27;ATAC_umap&#x27;, &#x27;GEX_X_pca&#x27;, &#x27;GEX_X_umap&#x27;\n",
       "      layers:\t&#x27;counts&#x27;\n",
       "    rna:\t6137 x 2500\n",
       "      obs:\t&#x27;GEX_pct_counts_mt&#x27;, &#x27;GEX_n_counts&#x27;, &#x27;GEX_n_genes&#x27;, &#x27;GEX_size_factors&#x27;, &#x27;GEX_phase&#x27;, &#x27;ATAC_nCount_peaks&#x27;, &#x27;ATAC_atac_fragments&#x27;, &#x27;ATAC_reads_in_peaks_frac&#x27;, &#x27;ATAC_blacklist_fraction&#x27;, &#x27;ATAC_nucleosome_signal&#x27;, &#x27;cell_type&#x27;, &#x27;batch&#x27;, &#x27;ATAC_pseudotime_order&#x27;, &#x27;GEX_pseudotime_order&#x27;, &#x27;Samplename&#x27;, &#x27;Site&#x27;, &#x27;DonorNumber&#x27;, &#x27;Modality&#x27;, &#x27;VendorLot&#x27;, &#x27;DonorID&#x27;, &#x27;DonorAge&#x27;, &#x27;DonorBMI&#x27;, &#x27;DonorBloodType&#x27;, &#x27;DonorRace&#x27;, &#x27;Ethnicity&#x27;, &#x27;DonorGender&#x27;, &#x27;QCMeds&#x27;, &#x27;DonorSmoker&#x27;, &#x27;celltype&#x27;, &#x27;n_genes_by_counts&#x27;, &#x27;total_counts&#x27;, &#x27;total_counts_mt&#x27;, &#x27;pct_counts_mt&#x27;\n",
       "      var:\t&#x27;feature_types&#x27;, &#x27;gene_id&#x27;, &#x27;mt&#x27;, &#x27;n_cells_by_counts&#x27;, &#x27;mean_counts&#x27;, &#x27;pct_dropout_by_counts&#x27;, &#x27;total_counts&#x27;, &#x27;highly_variable&#x27;, &#x27;means&#x27;, &#x27;dispersions&#x27;, &#x27;dispersions_norm&#x27;\n",
       "      uns:\t&#x27;ATAC_gene_activity_var_names&#x27;, &#x27;dataset_id&#x27;, &#x27;genome&#x27;, &#x27;hvg&#x27;, &#x27;organism&#x27;\n",
       "      obsm:\t&#x27;ATAC_gene_activity&#x27;, &#x27;ATAC_lsi_full&#x27;, &#x27;ATAC_lsi_red&#x27;, &#x27;ATAC_umap&#x27;, &#x27;GEX_X_pca&#x27;, &#x27;GEX_X_umap&#x27;\n",
       "      layers:\t&#x27;counts&#x27;</pre>"
      ],
      "text/plain": [
       "MuData object with n_obs × n_vars = 6137 × 17500\n",
       "  var:\t'dispersions', 'dispersions_norm', 'feature_types', 'gene_id', 'highly_variable', 'mean_counts', 'means', 'n_cells_by_counts', 'pct_dropout_by_counts', 'total_counts'\n",
       "  2 modalities\n",
       "    atac:\t6137 x 15000\n",
       "      obs:\t'GEX_pct_counts_mt', 'GEX_n_counts', 'GEX_n_genes', 'GEX_size_factors', 'GEX_phase', 'ATAC_nCount_peaks', 'ATAC_atac_fragments', 'ATAC_reads_in_peaks_frac', 'ATAC_blacklist_fraction', 'ATAC_nucleosome_signal', 'cell_type', 'batch', 'ATAC_pseudotime_order', 'GEX_pseudotime_order', 'Samplename', 'Site', 'DonorNumber', 'Modality', 'VendorLot', 'DonorID', 'DonorAge', 'DonorBMI', 'DonorBloodType', 'DonorRace', 'Ethnicity', 'DonorGender', 'QCMeds', 'DonorSmoker', 'celltype', 'n_genes_by_counts', 'total_counts'\n",
       "      var:\t'feature_types', 'gene_id', 'n_cells_by_counts', 'mean_counts', 'pct_dropout_by_counts', 'total_counts', 'highly_variable', 'means', 'dispersions', 'dispersions_norm'\n",
       "      uns:\t'ATAC_gene_activity_var_names', 'dataset_id', 'genome', 'hvg', 'organism'\n",
       "      obsm:\t'ATAC_gene_activity', 'ATAC_lsi_full', 'ATAC_lsi_red', 'ATAC_umap', 'GEX_X_pca', 'GEX_X_umap'\n",
       "      layers:\t'counts'\n",
       "    rna:\t6137 x 2500\n",
       "      obs:\t'GEX_pct_counts_mt', 'GEX_n_counts', 'GEX_n_genes', 'GEX_size_factors', 'GEX_phase', 'ATAC_nCount_peaks', 'ATAC_atac_fragments', 'ATAC_reads_in_peaks_frac', 'ATAC_blacklist_fraction', 'ATAC_nucleosome_signal', 'cell_type', 'batch', 'ATAC_pseudotime_order', 'GEX_pseudotime_order', 'Samplename', 'Site', 'DonorNumber', 'Modality', 'VendorLot', 'DonorID', 'DonorAge', 'DonorBMI', 'DonorBloodType', 'DonorRace', 'Ethnicity', 'DonorGender', 'QCMeds', 'DonorSmoker', 'celltype', 'n_genes_by_counts', 'total_counts', 'total_counts_mt', 'pct_counts_mt'\n",
       "      var:\t'feature_types', 'gene_id', 'mt', 'n_cells_by_counts', 'mean_counts', 'pct_dropout_by_counts', 'total_counts', 'highly_variable', 'means', 'dispersions', 'dispersions_norm'\n",
       "      uns:\t'ATAC_gene_activity_var_names', 'dataset_id', 'genome', 'hvg', 'organism'\n",
       "      obsm:\t'ATAC_gene_activity', 'ATAC_lsi_full', 'ATAC_lsi_red', 'ATAC_umap', 'GEX_X_pca', 'GEX_X_umap'\n",
       "      layers:\t'counts'"
      ]
     },
     "execution_count": 32,
     "metadata": {},
     "output_type": "execute_result"
    }
   ],
   "source": [
    "mdata = mu.read_h5mu('/users/csb/huizing/Documents/PhD/Code/mowgli_reproducibility/data/OP_multiome/opmultiome_preprocessed.h5mu.gz')\n",
    "mdata"
   ]
  },
  {
   "cell_type": "code",
   "execution_count": 33,
   "metadata": {},
   "outputs": [],
   "source": [
    "adata = ad.AnnData(mdata[\"rna\"].X)\n",
    "adata.obs_names = mdata[\"rna\"].obs_names\n",
    "adata.obs[\"celltype\"] = mdata[\"rna\"].obs[\"celltype\"]\n",
    "adata.var_names = mdata[\"rna\"].var_names\n",
    "adata.write_h5ad('/users/csb/huizing/Documents/PhD/Code/mowgli_reproducibility/data/OP_multiome/opmultiome_preprocessed_rna.h5ad')\n",
    "\n",
    "adata = ad.AnnData(mdata[\"atac\"].X)\n",
    "adata.obs_names = mdata[\"atac\"].obs_names\n",
    "adata.obs[\"celltype\"] = mdata[\"atac\"].obs[\"celltype\"]\n",
    "adata.var_names = mdata[\"atac\"].var_names\n",
    "adata.write_h5ad('/users/csb/huizing/Documents/PhD/Code/mowgli_reproducibility/data/OP_multiome/opmultiome_preprocessed_atac.h5ad')\n"
   ]
  },
  {
   "cell_type": "code",
   "execution_count": null,
   "metadata": {},
   "outputs": [],
   "source": []
  }
 ],
 "metadata": {
  "kernelspec": {
   "display_name": "Python 3.8.5 ('base')",
   "language": "python",
   "name": "python3"
  },
  "language_info": {
   "codemirror_mode": {
    "name": "ipython",
    "version": 3
   },
   "file_extension": ".py",
   "mimetype": "text/x-python",
   "name": "python",
   "nbconvert_exporter": "python",
   "pygments_lexer": "ipython3",
   "version": "3.8.5"
  },
  "orig_nbformat": 4,
  "vscode": {
   "interpreter": {
    "hash": "8ba723ea251c3bb47b49f140ac541c116def08dcde9f0d62bfab2e65e5e12241"
   }
  }
 },
 "nbformat": 4,
 "nbformat_minor": 2
}
